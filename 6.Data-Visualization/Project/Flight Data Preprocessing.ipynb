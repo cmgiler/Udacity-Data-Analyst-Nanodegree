{
 "cells": [
  {
   "cell_type": "code",
   "execution_count": 1,
   "metadata": {
    "collapsed": true
   },
   "outputs": [],
   "source": [
    "import numpy as np\n",
    "import pandas as pd\n",
    "\n",
    "df_airline_data = pd.read_csv('86206597_102016_1233_airline_delay_causes.csv')\n",
    "df_airports = pd.read_csv('airports.csv')\n",
    "df_merge = pd.merge(df_airline_data, df_airports[['iata','lat','long']], how='left', left_on='airport', right_on='iata')\n",
    "del df_merge['iata']\n",
    "del df_merge['Unnamed: 21']\n",
    "df_merge.to_csv('airline_delay_loc.csv')"
   ]
  }
 ],
 "metadata": {
  "kernelspec": {
   "display_name": "Python 2",
   "language": "python",
   "name": "python2"
  },
  "language_info": {
   "codemirror_mode": {
    "name": "ipython",
    "version": 2
   },
   "file_extension": ".py",
   "mimetype": "text/x-python",
   "name": "python",
   "nbconvert_exporter": "python",
   "pygments_lexer": "ipython2",
   "version": "2.7.9"
  }
 },
 "nbformat": 4,
 "nbformat_minor": 1
}
