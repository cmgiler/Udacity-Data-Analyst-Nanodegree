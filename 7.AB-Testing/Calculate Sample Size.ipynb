{
 "cells": [
  {
   "cell_type": "code",
   "execution_count": 12,
   "metadata": {
    "collapsed": false
   },
   "outputs": [],
   "source": [
    "from scipy.stats import norm\n",
    "import numpy as np\n",
    "\n",
    "def get_z_star(alpha):\n",
    "    return norm.ppf(1-alpha/2)\n",
    "\n",
    "def get_beta(z_star, s, d_min, N):\n",
    "    SE = s/math.sqrt(N)\n",
    "    mu = d_min\n",
    "    sd = SE\n",
    "    alpha = ((1-mu)/math.pow(sd,2) - 1/mu)*math.pow(mu,2)\n",
    "    return alpha*(1/mu - 1)\n",
    "    norm.cdf()\n",
    "\n",
    "def required_size(s, d_min, Ns = range(1,20000), alpha = 0.05, beta = 0.2):\n",
    "    for N in Ns:\n",
    "        if get_beta(get_z_star(alpha), s, d_min, N) <= beta:\n",
    "            return N\n",
    "    return -1"
   ]
  },
  {
   "cell_type": "code",
   "execution_count": 17,
   "metadata": {
    "collapsed": false
   },
   "outputs": [
    {
     "name": "stdout",
     "output_type": "stream",
     "text": [
      "122511.51\n"
     ]
    }
   ],
   "source": [
    "alpha = 0.05\n",
    "z_star = get_z_star(alpha)\n",
    "beta = get_beta(z_star, .02, .01, 5000)\n",
    "print beta"
   ]
  },
  {
   "cell_type": "code",
   "execution_count": null,
   "metadata": {
    "collapsed": true
   },
   "outputs": [],
   "source": []
  }
 ],
 "metadata": {
  "kernelspec": {
   "display_name": "Python 2",
   "language": "python",
   "name": "python2"
  },
  "language_info": {
   "codemirror_mode": {
    "name": "ipython",
    "version": 2
   },
   "file_extension": ".py",
   "mimetype": "text/x-python",
   "name": "python",
   "nbconvert_exporter": "python",
   "pygments_lexer": "ipython2",
   "version": "2.7.9"
  }
 },
 "nbformat": 4,
 "nbformat_minor": 1
}
