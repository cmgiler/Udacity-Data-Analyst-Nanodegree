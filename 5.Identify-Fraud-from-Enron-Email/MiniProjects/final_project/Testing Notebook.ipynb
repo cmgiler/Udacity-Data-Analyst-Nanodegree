{
 "cells": [
  {
   "cell_type": "code",
   "execution_count": 1,
   "metadata": {
    "collapsed": true
   },
   "outputs": [],
   "source": [
    "import sys\n",
    "import pickle\n",
    "sys.path.append(\"../tools/\")\n",
    "\n",
    "from feature_format import featureFormat, targetFeatureSplit\n",
    "from tester import test_classifier, dump_classifier_and_data\n",
    "import matplotlib.pyplot as plt\n",
    "import numpy as np\n",
    "import pandas as pd\n",
    "from collections import defaultdict\n",
    "from time import time\n",
    "\n",
    "# Import classifiers to test\n",
    "from sklearn.naive_bayes import GaussianNB\n",
    "from sklearn.svm import SVC\n",
    "from sklearn.linear_model import LogisticRegression\n",
    "from sklearn.tree import DecisionTreeClassifier\n",
    "from sklearn.neighbors import KNeighborsClassifier\n",
    "from sklearn.ensemble import AdaBoostClassifier\n",
    "from sklearn.ensemble import RandomForestClassifier\n",
    "\n",
    "from sklearn.feature_selection import SelectKBest\n",
    "from sklearn.pipeline import Pipeline\n",
    "from sklearn.decomposition import PCA\n",
    "\n",
    "# Import metrics to analyze results\n",
    "from sklearn.metrics import accuracy_score\n",
    "from sklearn.metrics import recall_score\n",
    "from sklearn.metrics import precision_score\n",
    "from sklearn.metrics import f1_score\n",
    "from sklearn.metrics import classification_report\n",
    "\n",
    "# Import functions for cross validation and parameter optimization\n",
    "from sklearn.grid_search import GridSearchCV\n",
    "from sklearn.cross_validation import train_test_split"
   ]
  },
  {
   "cell_type": "code",
   "execution_count": 2,
   "metadata": {
    "collapsed": true
   },
   "outputs": [],
   "source": [
    "### Task 1: Select what features you'll use.\n",
    "### features_list is a list of strings, each of which is a feature name.\n",
    "### The first feature must be \"poi\".\n",
    "\n",
    "features_list = ['poi', 'salary', 'to_messages', 'deferral_payments', 'total_payments',\n",
    "       'exercised_stock_options', 'bonus', 'restricted_stock',\n",
    "       'shared_receipt_with_poi', 'restricted_stock_deferred',\n",
    "       'total_stock_value', 'expenses', 'loan_advances', 'from_messages',\n",
    "       'other', 'from_this_person_to_poi', 'director_fees',\n",
    "       'deferred_income', 'long_term_incentive',\n",
    "       'from_poi_to_this_person']"
   ]
  },
  {
   "cell_type": "code",
   "execution_count": 3,
   "metadata": {
    "collapsed": false
   },
   "outputs": [],
   "source": [
    "with open(\"final_project_dataset.pkl\", \"r\") as data_file:\n",
    "    data_dict = pickle.load(data_file)"
   ]
  },
  {
   "cell_type": "code",
   "execution_count": 4,
   "metadata": {
    "collapsed": false
   },
   "outputs": [
    {
     "data": {
      "text/plain": [
       "146"
      ]
     },
     "execution_count": 4,
     "metadata": {},
     "output_type": "execute_result"
    }
   ],
   "source": [
    "len(data_dict.keys())"
   ]
  },
  {
   "cell_type": "code",
   "execution_count": 5,
   "metadata": {
    "collapsed": false
   },
   "outputs": [
    {
     "name": "stdout",
     "output_type": "stream",
     "text": [
      "salary\n",
      "to_messages\n",
      "deferral_payments\n",
      "total_payments\n",
      "exercised_stock_options\n",
      "bonus\n",
      "restricted_stock\n",
      "shared_receipt_with_poi\n",
      "restricted_stock_deferred\n",
      "total_stock_value\n",
      "expenses\n",
      "loan_advances\n",
      "from_messages\n",
      "other\n",
      "from_this_person_to_poi\n",
      "poi\n",
      "director_fees\n",
      "deferred_income\n",
      "long_term_incentive\n",
      "email_address\n",
      "from_poi_to_this_person\n",
      "21\n"
     ]
    }
   ],
   "source": [
    "for item in data_dict['METTS MARK'].keys():\n",
    "    print item\n",
    "print len(data_dict['METTS MARK'].keys())"
   ]
  },
  {
   "cell_type": "markdown",
   "metadata": {},
   "source": [
    "### Number of data points\n",
    "Number of POI vs. Non-POI"
   ]
  },
  {
   "cell_type": "code",
   "execution_count": 6,
   "metadata": {
    "collapsed": false
   },
   "outputs": [
    {
     "name": "stdout",
     "output_type": "stream",
     "text": [
      "DATA POINTS\n",
      "===========\n",
      "146 total data points\n",
      "18 POI;\t128 non-POI\n"
     ]
    }
   ],
   "source": [
    "print 'DATA POINTS'\n",
    "print '==========='\n",
    "print len(data_dict), 'total data points'\n",
    "count_poi = 0\n",
    "for person in data_dict:\n",
    "\tif data_dict[person]['poi'] == 1:\n",
    "\t\tcount_poi += 1\n",
    "print count_poi, 'POI;\t', len(data_dict) - count_poi, 'non-POI'"
   ]
  },
  {
   "cell_type": "markdown",
   "metadata": {},
   "source": [
    "### Convert all 'str' and 'int' types to 'float' type"
   ]
  },
  {
   "cell_type": "code",
   "execution_count": 7,
   "metadata": {
    "collapsed": false
   },
   "outputs": [],
   "source": [
    "df = pd.DataFrame.from_dict(data_dict, orient='index')\n",
    "df = df.replace('NaN',np.nan)\n",
    "df = df.drop('email_address', 1)\n",
    "\n",
    "# Convert NaN to Median Value\n",
    "df = df.apply(lambda x: x.fillna(x.median()), axis=0)\n",
    "\n",
    "# Create new features\n",
    "# Fraction from poi\n",
    "df['fraction_from_poi'] = df['from_poi_to_this_person']/df['from_messages']\n",
    "features_list.append('fraction_from_poi')\n",
    "# Fraction to poi\n",
    "df['fraction_to_poi'] = df['from_this_person_to_poi']/df['to_messages']\n",
    "features_list.append('fraction_to_poi')\n",
    "\n",
    "data_dict = df.T.to_dict()"
   ]
  },
  {
   "cell_type": "markdown",
   "metadata": {},
   "source": [
    "### Number of Features\n",
    "Split by type"
   ]
  },
  {
   "cell_type": "code",
   "execution_count": 8,
   "metadata": {
    "collapsed": false
   },
   "outputs": [
    {
     "name": "stdout",
     "output_type": "stream",
     "text": [
      "FEATURES\n",
      "========\n",
      "22 features total\n",
      "\n",
      "Feature breakdown:\n",
      "\n",
      "Data Types:\n",
      "<type 'float'> :\n",
      "['to_messages', 'deferral_payments', 'expenses', 'long_term_incentive', 'from_poi_to_this_person', 'deferred_income', 'fraction_from_poi', 'restricted_stock_deferred', 'shared_receipt_with_poi', 'loan_advances', 'from_messages', 'other', 'director_fees', 'bonus', 'total_stock_value', 'from_this_person_to_poi', 'restricted_stock', 'salary', 'total_payments', 'fraction_to_poi', 'exercised_stock_options']\n",
      "------------\n",
      "<type 'bool'> :\n",
      "['poi']\n",
      "------------\n",
      "False\n"
     ]
    }
   ],
   "source": [
    "print 'FEATURES'\n",
    "print '========'\n",
    "first_key = data_dict.keys()[0]\n",
    "print len(data_dict[first_key].keys()), 'features total'\n",
    "print\n",
    "print 'Feature breakdown:'\n",
    "data_types = defaultdict(list)\n",
    "for key in data_dict[first_key].keys():\n",
    "\tdata_type = type(data_dict[first_key][key])\n",
    "\tdata_types[data_type].append(key)\n",
    "print\n",
    "print 'Data Types:'\n",
    "for key in data_types:\n",
    "\tprint key,':'\n",
    "#\tfor item in data_types[key]:\n",
    "#\t\tprint '   ', item\n",
    "\tprint data_types[key]\n",
    "\tprint '------------'\n",
    "\n",
    "print np.isnan(data_dict['LOCKHART EUGENE E']['salary'])"
   ]
  },
  {
   "cell_type": "markdown",
   "metadata": {},
   "source": [
    "### Number of NaN values"
   ]
  },
  {
   "cell_type": "code",
   "execution_count": 9,
   "metadata": {
    "collapsed": false
   },
   "outputs": [
    {
     "name": "stdout",
     "output_type": "stream",
     "text": [
      "MISSING DATA (NaN)\n",
      "==================\n",
      "Count of NaN Values (for each feature) :\n",
      "\n",
      "to_messages 0\n",
      "deferral_payments 0\n",
      "expenses 0\n",
      "poi 0\n",
      "deferred_income 0\n",
      "long_term_incentive 0\n",
      "fraction_from_poi 0\n",
      "restricted_stock_deferred 0\n",
      "shared_receipt_with_poi 0\n",
      "loan_advances 0\n",
      "from_messages 0\n",
      "other 0\n",
      "director_fees 0\n",
      "bonus 0\n",
      "total_stock_value 0\n",
      "from_poi_to_this_person 0\n",
      "from_this_person_to_poi 0\n",
      "restricted_stock 0\n",
      "salary 0\n",
      "total_payments 0\n",
      "fraction_to_poi 0\n",
      "exercised_stock_options 0\n",
      "\n",
      "\n",
      "NaN by Data Point\n",
      "=================\n",
      "METTS MARK 0\n",
      "BAXTER JOHN C 0\n",
      "ELLIOTT STEVEN 0\n",
      "CORDES WILLIAM R 0\n",
      "HANNON KEVIN P 0\n",
      "MORDAUNT KRISTINA M 0\n",
      "MEYER ROCKFORD G 0\n",
      "MCMAHON JEFFREY 0\n",
      "HAEDICKE MARK E 0\n",
      "PIPER GREGORY F 0\n",
      "HUMPHREY GENE E 0\n",
      "NOLES JAMES L 0\n",
      "BLACHMAN JEREMY M 0\n",
      "SUNDE MARTIN 0\n"
     ]
    }
   ],
   "source": [
    "print 'MISSING DATA (NaN)'\n",
    "print '=================='\n",
    "print 'Count of NaN Values (for each feature) :'\n",
    "print\n",
    "# Initialize Counts:\n",
    "count_nan = defaultdict(int)\n",
    "for key in data_dict[first_key].keys():\n",
    "\tcount_nan[key] = 0\n",
    "# Increment Counter\n",
    "for person in data_dict:\n",
    "\tfor key in data_dict[person].keys():\n",
    "\t\tif np.isnan(data_dict[person][key]):\n",
    "\t\t\tcount_nan[key] += 1\n",
    "# Sort dictionary by value and print values\n",
    "for key in sorted(count_nan, key=count_nan.get, reverse=True):\n",
    "    print key, count_nan[key]\n",
    "\n",
    "print \n",
    "print\n",
    "print 'NaN by Data Point'\n",
    "print '================='\n",
    "count_nan_ind = defaultdict(int)\n",
    "for person in data_dict:\n",
    "\tcnt = 0\n",
    "\tfor key in data_dict[person].keys():\n",
    "\t\tif np.isnan(data_dict[person][key]):\n",
    "\t\t\tcnt += 1\n",
    "\tcount_nan_ind[person] = cnt\n",
    "\n",
    "for key in sorted(count_nan_ind, key = count_nan_ind.get, reverse=True)[0:14]:\n",
    "\tprint key, count_nan_ind[key]"
   ]
  },
  {
   "cell_type": "markdown",
   "metadata": {},
   "source": [
    "### Remove Outliers\n",
    "'TOTAL'\n",
    "\n",
    "'THE TRAVEL AGENCY IN THE PARK'\n",
    "\n",
    "'LOCKHART EUGENE E'"
   ]
  },
  {
   "cell_type": "code",
   "execution_count": 10,
   "metadata": {
    "collapsed": false
   },
   "outputs": [
    {
     "name": "stdout",
     "output_type": "stream",
     "text": [
      "Initial Length: 146\n",
      "Length after Outlier Removal: 143\n"
     ]
    }
   ],
   "source": [
    "outliers = ['TOTAL','THE TRAVEL AGENCY IN THE PARK','LOCKHART EUGENE E']\n",
    "print 'Initial Length:', len(data_dict)\n",
    "for name in outliers:\n",
    "    data_dict.pop(name)\n",
    "print 'Length after Outlier Removal:', len(data_dict)"
   ]
  },
  {
   "cell_type": "markdown",
   "metadata": {
    "collapsed": false
   },
   "source": [
    "### Feature Selection\n",
    "Use SelectKBest"
   ]
  },
  {
   "cell_type": "code",
   "execution_count": 26,
   "metadata": {
    "collapsed": false
   },
   "outputs": [
    {
     "data": {
      "text/plain": [
       "{'bonus': 15.646310196119428,\n",
       " 'deferred_income': 10.183117569139776,\n",
       " 'exercised_stock_options': 27.19264248325241,\n",
       " 'restricted_stock': 8.3604406191721594,\n",
       " 'salary': 10.806071863124094,\n",
       " 'total_payments': 8.3349911967777608,\n",
       " 'total_stock_value': 23.428992663609957}"
      ]
     },
     "execution_count": 26,
     "metadata": {},
     "output_type": "execute_result"
    }
   ],
   "source": [
    "data = featureFormat(data_dict, features_list, remove_NaN=False, sort_keys=True)\n",
    "labels, features = targetFeatureSplit(data)\n",
    "\n",
    "### Feature scaling\n",
    "from sklearn import preprocessing\n",
    "features = preprocessing.MinMaxScaler().fit_transform(features)\n",
    "\n",
    "### SelectKBest\n",
    "selection = SelectKBest(k = 'all')\n",
    "selection.fit(features, labels)\n",
    "scores = selection.scores_\n",
    "score_pairs = zip(features_list[1:], scores)\n",
    "score_pairs = sorted(score_pairs, key = lambda x: x[1])\n",
    "score_pairs.reverse()\n",
    "\n",
    "top_features = ['poi']\n",
    "for name, val in score_pairs:\n",
    "    if len(top_features) <= 10:\n",
    "        top_features.append(name)\n",
    "\n",
    "k_best_features = dict(score_pairs[0:7], )\n",
    "k_best_features"
   ]
  },
  {
   "cell_type": "code",
   "execution_count": 35,
   "metadata": {
    "collapsed": false
   },
   "outputs": [
    {
     "data": {
      "image/png": "[encoded data removed]",
      "text/plain": [
       "<matplotlib.figure.Figure at 0x10cb79790>"
      ]
     },
     "metadata": {},
     "output_type": "display_data"
    }
   ],
   "source": [
    "import matplotlib.pyplot as plt\n",
    "%matplotlib inline  \n",
    "features_names = zip(*score_pairs)[0]\n",
    "score = zip(*score_pairs)[1]\n",
    "x_pos = np.arange(len(features_names)) \n",
    "plt.figure(figsize=(12,8))\n",
    "plt.barh(x_pos, score, align='center')\n",
    "plt.yticks(x_pos, features_names) \n",
    "plt.ylabel('Score')\n",
    "plt.xlabel('Feature')\n",
    "plt.gca().invert_yaxis()\n",
    "for i, v in enumerate(score):\n",
    "    v = float(\"{0:.2f}\".format(v))\n",
    "    plt.text(v + .5, i+.25, str(v), color='blue', fontweight='bold')\n",
    "plt.show()\n",
    "\n",
    "\n"
   ]
  },
  {
   "cell_type": "markdown",
   "metadata": {},
   "source": [
    "Use SelectPercentile"
   ]
  },
  {
   "cell_type": "code",
   "execution_count": 13,
   "metadata": {
    "collapsed": false
   },
   "outputs": [
    {
     "data": {
      "text/plain": [
       "'\\nfrom sklearn.feature_selection import SelectPercentile\\nselector = SelectPercentile(percentile = 10)\\nselector.fit(features, labels)\\nperc_scores = selector.scores_\\n\\nperc_dict = {}\\nfor i in range(len(perc_scores)):\\n    perc_dict[features_list[i+1]] = perc_scores[i]\\n\\nperc_dict\\n\\nimport operator\\nperc_dict = sorted(perc_dict.items(), key=operator.itemgetter(1))\\nperc_dict.reverse()\\ndict(perc_dict[0:7])\\n'"
      ]
     },
     "execution_count": 13,
     "metadata": {},
     "output_type": "execute_result"
    }
   ],
   "source": [
    "'''\n",
    "from sklearn.feature_selection import SelectPercentile\n",
    "selector = SelectPercentile(percentile = 10)\n",
    "selector.fit(features, labels)\n",
    "perc_scores = selector.scores_\n",
    "\n",
    "perc_dict = {}\n",
    "for i in range(len(perc_scores)):\n",
    "    perc_dict[features_list[i+1]] = perc_scores[i]\n",
    "\n",
    "perc_dict\n",
    "\n",
    "import operator\n",
    "perc_dict = sorted(perc_dict.items(), key=operator.itemgetter(1))\n",
    "perc_dict.reverse()\n",
    "dict(perc_dict[0:7])\n",
    "'''"
   ]
  },
  {
   "cell_type": "code",
   "execution_count": 14,
   "metadata": {
    "collapsed": false
   },
   "outputs": [
    {
     "data": {
      "text/plain": [
       "[('deferred_income', 0.16645289510778094, 1),\n",
       " ('total_stock_value', 0.14612040934104614, 1),\n",
       " ('salary', 0.12128828917997118, 6),\n",
       " ('exercised_stock_options', 0.11903146339266701, 1),\n",
       " ('bonus', 0.093649569852902403, 2),\n",
       " ('restricted_stock', 0.090232862543288356, 8),\n",
       " ('long_term_incentive', 0.089412024728092954, 4),\n",
       " ('shared_receipt_with_poi', 0.075849961933019072, 3),\n",
       " ('total_payments', 0.058310700504103932, 7),\n",
       " ('from_poi_to_this_person', 0.039651823417127932, 5)]"
      ]
     },
     "execution_count": 14,
     "metadata": {},
     "output_type": "execute_result"
    }
   ],
   "source": [
    "from sklearn.feature_selection import RFE\n",
    "from sklearn.linear_model import LogisticRegression, LinearRegression\n",
    "from sklearn import metrics\n",
    "from sklearn.ensemble import ExtraTreesClassifier\n",
    "import operator\n",
    "\n",
    "# Reload data using only top 10 features found through K-Best Selection\n",
    "data = featureFormat(data_dict, top_features, sort_keys=True)\n",
    "labels, features = targetFeatureSplit(data)\n",
    "### Feature scaling\n",
    "from sklearn import preprocessing\n",
    "features = preprocessing.MinMaxScaler().fit_transform(features)\n",
    "\n",
    "# create a base classifier used to evaluate a subset of attributes\n",
    "model = LogisticRegression()\n",
    "model_fi = RandomForestClassifier()\n",
    "\n",
    "# create the RFE model and select 10 attributes\n",
    "rfe = RFE(model, 3)\n",
    "rfe = rfe.fit(features, labels)\n",
    "\n",
    "# Use model_fi to find feature importance\n",
    "model_fi.fit(features, labels)\n",
    "feat_imp = model_fi.feature_importances_\n",
    "\n",
    "# summarize the selection of the attributes\n",
    "#print(rfe.support_)\n",
    "#print(rfe.ranking_)\n",
    "\n",
    "ranking_dict = {}\n",
    "ranking = rfe.ranking_\n",
    "for i in range(len(ranking)):\n",
    "    ranking_dict[top_features[i+1]] = (feat_imp[i], ranking[i])\n",
    "ranking_pairs = zip(top_features[1:], feat_imp, ranking)\n",
    "ranking_pairs = sorted(ranking_pairs, key = lambda x: x[1])\n",
    "ranking_pairs.reverse()\n",
    "\n",
    "ranking_dict = sorted(ranking_dict.items(), key=operator.itemgetter(1))\n",
    "ranking_dict.reverse()\n",
    "ranking_pairs\n",
    "\n"
   ]
  },
  {
   "cell_type": "code",
   "execution_count": 15,
   "metadata": {
    "collapsed": false
   },
   "outputs": [
    {
     "data": {
      "image/png": "[encoded data removed]",
      "text/plain": [
       "<matplotlib.figure.Figure at 0x10b612c90>"
      ]
     },
     "metadata": {},
     "output_type": "display_data"
    }
   ],
   "source": [
    "features_names = zip(*ranking_pairs)[0]\n",
    "feature_importance = zip(*ranking_pairs)[1]\n",
    "feature_ranking = zip(*ranking_pairs)[2]\n",
    "x_pos = np.arange(len(features_names)) \n",
    "\n",
    "plt.figure(figsize=(10,8))\n",
    "plt.barh(x_pos, feature_importance, align='center')\n",
    "plt.yticks(x_pos, features_names) \n",
    "plt.ylabel('Feature Importance')\n",
    "plt.xlabel('Feature')\n",
    "plt.gca().invert_yaxis()\n",
    "for i, v in enumerate(feature_importance):\n",
    "    v = float(\"{0:.4f}\".format(v))\n",
    "    if feature_ranking[i] == 1:\n",
    "        text_color = 'red'\n",
    "        text_weight = 'bold'\n",
    "    else:\n",
    "        text_color = 'blue'\n",
    "        text_weight = 'light'\n",
    "    plt.text(v + .001, i+.25, str(feature_ranking[i]), color=text_color, fontweight=text_weight)\n",
    "        \n",
    "plt.show()"
   ]
  },
  {
   "cell_type": "code",
   "execution_count": 16,
   "metadata": {
    "collapsed": false
   },
   "outputs": [],
   "source": [
    "top_features = ['poi',\n",
    "                'total_stock_value',\n",
    "                'exercised_stock_options',\n",
    "                'deferred_income',\n",
    "                'bonus',\n",
    "                'salary']\n",
    "# Reload data using only top 10 features found through K-Best Selection\n",
    "data = featureFormat(data_dict, top_features, sort_keys=True)\n",
    "labels, features = targetFeatureSplit(data)\n",
    "\n",
    "### Feature scaling\n",
    "from sklearn import preprocessing\n",
    "features = preprocessing.MinMaxScaler().fit_transform(features)\n",
    "\n",
    "from sklearn.cross_validation import StratifiedShuffleSplit\n",
    "cv = StratifiedShuffleSplit(labels)"
   ]
  },
  {
   "cell_type": "code",
   "execution_count": 17,
   "metadata": {
    "collapsed": false
   },
   "outputs": [
    {
     "name": "stdout",
     "output_type": "stream",
     "text": [
      "Accuracy: 0.86\n",
      "Recall: 0.05\n",
      "Precision: 0.2\n"
     ]
    },
    {
     "name": "stderr",
     "output_type": "stream",
     "text": [
      "/Users/chrisgiler_developer/anaconda/lib/python2.7/site-packages/sklearn/metrics/classification.py:958: UndefinedMetricWarning: Precision is ill-defined and being set to 0.0 due to no predicted samples.\n",
      "  'precision', 'predicted', average, warn_for)\n"
     ]
    }
   ],
   "source": [
    "from sklearn.cross_validation import cross_val_score\n",
    "from sklearn.svm import LinearSVC\n",
    "clf = KNeighborsClassifier()\n",
    "#X_train, X_test, y_train, y_test = train_test_split(features,labels,test_size=.3)\n",
    "#clf.fit(X_train,y_train)\n",
    "#y_pred = clf.predict(X_test)\n",
    "#accuracy = accuracy_score(y_test, y_pred)\n",
    "#recall = recall_score(y_test, y_pred)\n",
    "#precision = precision_score(y_test, y_pred)\n",
    "print 'Accuracy:', np.mean(cross_val_score(clf, features, labels, scoring='accuracy', cv=cv))\n",
    "print 'Recall:', np.mean(cross_val_score(clf, features, labels, scoring='recall', cv=cv))\n",
    "print 'Precision:', np.mean(cross_val_score(clf, features, labels, scoring='precision', cv=cv))\n",
    "\n",
    "#print 'Accuracy:', accuracy\n",
    "#print 'Recall:', recall\n",
    "#print 'Precision:', precision"
   ]
  },
  {
   "cell_type": "code",
   "execution_count": 18,
   "metadata": {
    "collapsed": false
   },
   "outputs": [],
   "source": [
    "def test_algorithm(clf, features, labels, score_str, cv):\n",
    "    return np.mean(cross_val_score(clf,\n",
    "                                   features,\n",
    "                                   labels,\n",
    "                                   scoring=score_str,\n",
    "                                   cv=cv))\n",
    "\n",
    "from sklearn.cross_validation import StratifiedShuffleSplit\n",
    "import re\n",
    "\n",
    "cv = StratifiedShuffleSplit(labels)\n",
    "\n",
    "models = [GaussianNB(), LinearSVC(), LogisticRegression(), \n",
    "          DecisionTreeClassifier(), KNeighborsClassifier(), AdaBoostClassifier(),\n",
    "          RandomForestClassifier()]\n",
    "\n",
    "test_results = {}\n",
    "for i in range(len(models)):\n",
    "    clf = models[i]\n",
    "    clf_str = re.split(r'\\(', str(clf))[0]\n",
    "    test_results[clf_str] = {}\n",
    "    test_results[clf_str]['Accuracy'] = test_algorithm(clf,features,labels,'accuracy',cv)\n",
    "    test_results[clf_str]['Precision'] = test_algorithm(clf,features,labels,'precision',cv)\n",
    "    test_results[clf_str]['Recall'] = test_algorithm(clf,features,labels,'recall',cv)\n",
    "\n",
    "df_results = pd.DataFrame.from_dict(test_results).T\n"
   ]
  },
  {
   "cell_type": "code",
   "execution_count": 19,
   "metadata": {
    "collapsed": false
   },
   "outputs": [
    {
     "data": {
      "text/html": [
       "<div>\n",
       "<table border=\"1\" class=\"dataframe\">\n",
       "  <thead>\n",
       "    <tr style=\"text-align: right;\">\n",
       "      <th></th>\n",
       "      <th>Accuracy</th>\n",
       "      <th>Precision</th>\n",
       "      <th>Recall</th>\n",
       "    </tr>\n",
       "  </thead>\n",
       "  <tbody>\n",
       "    <tr>\n",
       "      <th>AdaBoostClassifier</th>\n",
       "      <td>0.866667</td>\n",
       "      <td>0.333333</td>\n",
       "      <td>0.15</td>\n",
       "    </tr>\n",
       "    <tr>\n",
       "      <th>DecisionTreeClassifier</th>\n",
       "      <td>0.740000</td>\n",
       "      <td>0.208333</td>\n",
       "      <td>0.30</td>\n",
       "    </tr>\n",
       "    <tr>\n",
       "      <th>GaussianNB</th>\n",
       "      <td>0.886667</td>\n",
       "      <td>0.316667</td>\n",
       "      <td>0.40</td>\n",
       "    </tr>\n",
       "    <tr>\n",
       "      <th>KNeighborsClassifier</th>\n",
       "      <td>0.860000</td>\n",
       "      <td>0.200000</td>\n",
       "      <td>0.10</td>\n",
       "    </tr>\n",
       "    <tr>\n",
       "      <th>LinearSVC</th>\n",
       "      <td>0.866667</td>\n",
       "      <td>0.350000</td>\n",
       "      <td>0.10</td>\n",
       "    </tr>\n",
       "    <tr>\n",
       "      <th>LogisticRegression</th>\n",
       "      <td>0.880000</td>\n",
       "      <td>0.000000</td>\n",
       "      <td>0.15</td>\n",
       "    </tr>\n",
       "    <tr>\n",
       "      <th>RandomForestClassifier</th>\n",
       "      <td>0.813333</td>\n",
       "      <td>0.233333</td>\n",
       "      <td>0.25</td>\n",
       "    </tr>\n",
       "  </tbody>\n",
       "</table>\n",
       "</div>"
      ],
      "text/plain": [
       "                        Accuracy  Precision  Recall\n",
       "AdaBoostClassifier      0.866667   0.333333    0.15\n",
       "DecisionTreeClassifier  0.740000   0.208333    0.30\n",
       "GaussianNB              0.886667   0.316667    0.40\n",
       "KNeighborsClassifier    0.860000   0.200000    0.10\n",
       "LinearSVC               0.866667   0.350000    0.10\n",
       "LogisticRegression      0.880000   0.000000    0.15\n",
       "RandomForestClassifier  0.813333   0.233333    0.25"
      ]
     },
     "execution_count": 19,
     "metadata": {},
     "output_type": "execute_result"
    }
   ],
   "source": [
    "df_results"
   ]
  },
  {
   "cell_type": "code",
   "execution_count": 20,
   "metadata": {
    "collapsed": false,
    "scrolled": false
   },
   "outputs": [
    {
     "data": {
      "image/png": "[encoded data removed]",
      "text/plain": [
       "<matplotlib.figure.Figure at 0x10b60f2d0>"
      ]
     },
     "metadata": {},
     "output_type": "display_data"
    }
   ],
   "source": [
    "ax = df_results.plot(kind='bar',figsize=(10,5),fontsize=12)\n",
    "ax.set_title('Results of Different Models\\n(Using Default Settings)',fontsize=16)\n",
    "ax.legend(bbox_to_anchor=(0.95, 0.9, .17, 0), loc=3, ncol=1, mode='expand', borderaxespad=0)\n",
    "ax.text(-0.05,0.32,'Score > 0.3',fontsize=12,color='r')\n",
    "ax.set_xlabel('Algorithm',fontsize=16)\n",
    "ax.set_ylabel('Score Value',fontsize=16)\n",
    "ax.plot([-.5, 6.5],[0.30, 0.30],'k--',linewidth=2)\n",
    "plt.show()"
   ]
  },
  {
   "cell_type": "code",
   "execution_count": 21,
   "metadata": {
    "collapsed": false
   },
   "outputs": [
    {
     "name": "stdout",
     "output_type": "stream",
     "text": [
      "RandomForestClassifier(bootstrap=True, class_weight=None, criterion='gini',\n",
      "            max_depth=None, max_features='auto', max_leaf_nodes=None,\n",
      "            min_samples_leaf=1, min_samples_split=2,\n",
      "            min_weight_fraction_leaf=0.0, n_estimators=10, n_jobs=1,\n",
      "            oob_score=False, random_state=None, verbose=0,\n",
      "            warm_start=False)\n",
      "\tAccuracy: 0.84793\tPrecision: 0.35349\tRecall: 0.16950\tF1: 0.22913\tF2: 0.18920\n",
      "\tTotal predictions: 15000\tTrue positives:  339\tFalse positives:  620\tFalse negatives: 1661\tTrue negatives: 12380\n",
      "\n"
     ]
    }
   ],
   "source": [
    "test_classifier(RandomForestClassifier(),data_dict,top_features)"
   ]
  },
  {
   "cell_type": "code",
   "execution_count": 22,
   "metadata": {
    "collapsed": false
   },
   "outputs": [
    {
     "data": {
      "text/plain": [
       "GridSearchCV(cv=None, error_score='raise',\n",
       "       estimator=RandomForestClassifier(bootstrap=True, class_weight=None, criterion='gini',\n",
       "            max_depth=None, max_features='auto', max_leaf_nodes=None,\n",
       "            min_samples_leaf=1, min_samples_split=2,\n",
       "            min_weight_fraction_leaf=0.0, n_estimators=10, n_jobs=1,\n",
       "            oob_score=False, random_state=None, verbose=0,\n",
       "            warm_start=False),\n",
       "       fit_params={}, iid=True, loss_func=None, n_jobs=1,\n",
       "       param_grid={'n_estimators': [2, 5, 10, 20, 40, 100], 'min_samples_split': [1, 2, 3, 5], 'min_samples_leaf': [1, 2, 3, 5, 10, 15]},\n",
       "       pre_dispatch='2*n_jobs', refit=True, score_func=None, scoring=None,\n",
       "       verbose=0)"
      ]
     },
     "execution_count": 22,
     "metadata": {},
     "output_type": "execute_result"
    }
   ],
   "source": [
    "from sklearn.grid_search import GridSearchCV\n",
    "\n",
    "# Perform for RandomForestClassifier() and AdaBoostClassifier()\n",
    "parameters_rfc = {'n_estimators':[2, 5, 10, 20, 40, 100], \n",
    "                  'min_samples_split':[1, 2, 3, 5], \n",
    "                  'min_samples_leaf':[1, 2, 3, 5, 10, 15]}\n",
    "parameters_abc = {'n_estimators':[2, 5, 10, 15, 20, 30, 40, 50], \n",
    "                  'algorithm':('SAMME.R','SAMME'), \n",
    "                  'random_state':[None, 20, 40, 60]}\n",
    "parameters_svr = {'loss':('squared_hinge', 'hinge'), 'C':[1, 10]}\n",
    "\n",
    "\n",
    "rfc = RandomForestClassifier()\n",
    "abc = AdaBoostClassifier()\n",
    "svr = LinearSVC()\n",
    "\n",
    "clf = GridSearchCV(rfc, parameters_rfc)\n",
    "clf.fit(features, labels)\n"
   ]
  },
  {
   "cell_type": "code",
   "execution_count": 23,
   "metadata": {
    "collapsed": false
   },
   "outputs": [
    {
     "data": {
      "text/plain": [
       "{'min_samples_leaf': 1, 'min_samples_split': 2, 'n_estimators': 10}"
      ]
     },
     "execution_count": 23,
     "metadata": {},
     "output_type": "execute_result"
    }
   ],
   "source": [
    "clf.best_params_"
   ]
  },
  {
   "cell_type": "code",
   "execution_count": 24,
   "metadata": {
    "collapsed": false
   },
   "outputs": [
    {
     "name": "stdout",
     "output_type": "stream",
     "text": [
      "RandomForestClassifier(bootstrap=True, class_weight=None, criterion='gini',\n",
      "            max_depth=None, max_features='auto', max_leaf_nodes=None,\n",
      "            min_samples_leaf=1, min_samples_split=2,\n",
      "            min_weight_fraction_leaf=0.0, n_estimators=10, n_jobs=1,\n",
      "            oob_score=False, random_state=None, verbose=0,\n",
      "            warm_start=False)\n",
      "\tAccuracy: 0.84993\tPrecision: 0.36941\tRecall: 0.17750\tF1: 0.23978\tF2: 0.19808\n",
      "\tTotal predictions: 15000\tTrue positives:  355\tFalse positives:  606\tFalse negatives: 1645\tTrue negatives: 12394\n",
      "\n"
     ]
    }
   ],
   "source": [
    "test_classifier(clf.best_estimator_,data_dict,top_features)\n",
    "#test_classifier(AdaBoostClassifier(),data_dict,top_features)"
   ]
  },
  {
   "cell_type": "code",
   "execution_count": 25,
   "metadata": {
    "collapsed": false
   },
   "outputs": [
    {
     "name": "stdout",
     "output_type": "stream",
     "text": [
      "GaussianNB()\n",
      "\tAccuracy: 0.86647\tPrecision: 0.49905\tRecall: 0.39600\tF1: 0.44159\tF2: 0.41306\n",
      "\tTotal predictions: 15000\tTrue positives:  792\tFalse positives:  795\tFalse negatives: 1208\tTrue negatives: 12205\n",
      "\n"
     ]
    }
   ],
   "source": [
    "test_classifier(GaussianNB(), data_dict, top_features)"
   ]
  },
  {
   "cell_type": "code",
   "execution_count": null,
   "metadata": {
    "collapsed": true
   },
   "outputs": [],
   "source": []
  }
 ],
 "metadata": {
  "kernelspec": {
   "display_name": "Python 2",
   "language": "python",
   "name": "python2"
  },
  "language_info": {
   "codemirror_mode": {
    "name": "ipython",
    "version": 2
   },
   "file_extension": ".py",
   "mimetype": "text/x-python",
   "name": "python",
   "nbconvert_exporter": "python",
   "pygments_lexer": "ipython2",
   "version": "2.7.9"
  }
 },
 "nbformat": 4,
 "nbformat_minor": 0
}
