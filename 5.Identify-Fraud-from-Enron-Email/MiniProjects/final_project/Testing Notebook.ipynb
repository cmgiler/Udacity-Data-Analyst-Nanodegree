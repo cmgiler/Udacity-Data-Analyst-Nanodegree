{
 "cells": [
  {
   "cell_type": "code",
   "execution_count": 46,
   "metadata": {
    "collapsed": true
   },
   "outputs": [],
   "source": [
    "import sys\n",
    "import pickle\n",
    "sys.path.append(\"../tools/\")\n",
    "\n",
    "from feature_format import featureFormat, targetFeatureSplit\n",
    "from tester import test_classifier, dump_classifier_and_data\n",
    "import matplotlib.pyplot as plt\n",
    "import numpy as np\n",
    "import pandas as pd\n",
    "from collections import defaultdict\n",
    "from time import time\n",
    "\n",
    "# Import classifiers to test\n",
    "from sklearn.naive_bayes import GaussianNB\n",
    "from sklearn.svm import SVC\n",
    "from sklearn.linear_model import LogisticRegression\n",
    "from sklearn.tree import DecisionTreeClassifier\n",
    "from sklearn.neighbors import KNeighborsClassifier\n",
    "from sklearn.ensemble import AdaBoostClassifier\n",
    "from sklearn.ensemble import RandomForestClassifier\n",
    "\n",
    "from sklearn.feature_selection import SelectKBest\n",
    "from sklearn.pipeline import Pipeline\n",
    "from sklearn.decomposition import PCA\n",
    "\n",
    "# Import metrics to analyze results\n",
    "from sklearn.metrics import accuracy_score\n",
    "from sklearn.metrics import recall_score\n",
    "from sklearn.metrics import precision_score\n",
    "from sklearn.metrics import f1_score\n",
    "from sklearn.metrics import classification_report\n",
    "\n",
    "# Import functions for cross validation and parameter optimization\n",
    "from sklearn.grid_search import GridSearchCV\n",
    "from sklearn.cross_validation import train_test_split"
   ]
  },
  {
   "cell_type": "code",
   "execution_count": 25,
   "metadata": {
    "collapsed": true
   },
   "outputs": [],
   "source": [
    "### Task 1: Select what features you'll use.\n",
    "### features_list is a list of strings, each of which is a feature name.\n",
    "### The first feature must be \"poi\".\n",
    "\n",
    "features_list = ['poi', 'salary', 'to_messages', 'deferral_payments', 'total_payments',\n",
    "       'exercised_stock_options', 'bonus', 'restricted_stock',\n",
    "       'shared_receipt_with_poi', 'restricted_stock_deferred',\n",
    "       'total_stock_value', 'expenses', 'loan_advances', 'from_messages',\n",
    "       'other', 'from_this_person_to_poi', 'poi', 'director_fees',\n",
    "       'deferred_income', 'long_term_incentive',\n",
    "       'from_poi_to_this_person']"
   ]
  },
  {
   "cell_type": "code",
   "execution_count": 63,
   "metadata": {
    "collapsed": false
   },
   "outputs": [],
   "source": [
    "with open(\"final_project_dataset.pkl\", \"r\") as data_file:\n",
    "    data_dict = pickle.load(data_file)"
   ]
  },
  {
   "cell_type": "code",
   "execution_count": 38,
   "metadata": {
    "collapsed": false
   },
   "outputs": [
    {
     "data": {
      "text/plain": [
       "146"
      ]
     },
     "execution_count": 38,
     "metadata": {},
     "output_type": "execute_result"
    }
   ],
   "source": [
    "len(data_dict.keys())"
   ]
  },
  {
   "cell_type": "code",
   "execution_count": 39,
   "metadata": {
    "collapsed": false
   },
   "outputs": [
    {
     "name": "stdout",
     "output_type": "stream",
     "text": [
      "salary\n",
      "to_messages\n",
      "deferral_payments\n",
      "total_payments\n",
      "exercised_stock_options\n",
      "bonus\n",
      "restricted_stock\n",
      "shared_receipt_with_poi\n",
      "restricted_stock_deferred\n",
      "total_stock_value\n",
      "expenses\n",
      "loan_advances\n",
      "from_messages\n",
      "other\n",
      "from_this_person_to_poi\n",
      "poi\n",
      "director_fees\n",
      "deferred_income\n",
      "long_term_incentive\n",
      "email_address\n",
      "from_poi_to_this_person\n",
      "21\n"
     ]
    }
   ],
   "source": [
    "for item in data_dict['METTS MARK'].keys():\n",
    "    print item\n",
    "print len(data_dict['METTS MARK'].keys())"
   ]
  },
  {
   "cell_type": "markdown",
   "metadata": {},
   "source": [
    "### Number of data points\n",
    "Number of POI vs. Non-POI"
   ]
  },
  {
   "cell_type": "code",
   "execution_count": 64,
   "metadata": {
    "collapsed": false
   },
   "outputs": [
    {
     "name": "stdout",
     "output_type": "stream",
     "text": [
      "DATA POINTS\n",
      "===========\n",
      "146 total data points\n",
      "18 POI;\t128 non-POI\n"
     ]
    }
   ],
   "source": [
    "print 'DATA POINTS'\n",
    "print '==========='\n",
    "print len(data_dict), 'total data points'\n",
    "count_poi = 0\n",
    "for person in data_dict:\n",
    "\tif data_dict[person]['poi'] == 1:\n",
    "\t\tcount_poi += 1\n",
    "print count_poi, 'POI;\t', len(data_dict) - count_poi, 'non-POI'"
   ]
  },
  {
   "cell_type": "markdown",
   "metadata": {},
   "source": [
    "### Convert all 'str' and 'int' types to 'float' type"
   ]
  },
  {
   "cell_type": "code",
   "execution_count": 66,
   "metadata": {
    "collapsed": true
   },
   "outputs": [],
   "source": [
    "df = pd.DataFrame.from_dict(data_dict, orient='index')\n",
    "df = df.replace('NaN',np.nan)\n",
    "df = df.drop('email_address', 1)\n",
    "df.head()\n",
    "data_dict = df.T.to_dict()"
   ]
  },
  {
   "cell_type": "markdown",
   "metadata": {},
   "source": [
    "### Number of Features\n",
    "Split by type"
   ]
  },
  {
   "cell_type": "code",
   "execution_count": 81,
   "metadata": {
    "collapsed": false
   },
   "outputs": [
    {
     "name": "stdout",
     "output_type": "stream",
     "text": [
      "FEATURES\n",
      "========\n",
      "20 features total\n",
      "\n",
      "Feature breakdown:\n",
      "\n",
      "Data Types:\n",
      "<type 'float'> :\n",
      "['salary', 'to_messages', 'deferral_payments', 'total_payments', 'loan_advances', 'bonus', 'restricted_stock_deferred', 'total_stock_value', 'shared_receipt_with_poi', 'long_term_incentive', 'exercised_stock_options', 'from_messages', 'other', 'from_poi_to_this_person', 'from_this_person_to_poi', 'deferred_income', 'expenses', 'restricted_stock', 'director_fees']\n",
      "------------\n",
      "<type 'bool'> :\n",
      "['poi']\n",
      "------------\n",
      "True\n"
     ]
    }
   ],
   "source": [
    "print 'FEATURES'\n",
    "print '========'\n",
    "first_key = data_dict.keys()[0]\n",
    "print len(data_dict[first_key].keys()), 'features total'\n",
    "print\n",
    "print 'Feature breakdown:'\n",
    "data_types = defaultdict(list)\n",
    "for key in data_dict[first_key].keys():\n",
    "\tdata_type = type(data_dict[first_key][key])\n",
    "\tdata_types[data_type].append(key)\n",
    "print\n",
    "print 'Data Types:'\n",
    "for key in data_types:\n",
    "\tprint key,':'\n",
    "#\tfor item in data_types[key]:\n",
    "#\t\tprint '   ', item\n",
    "\tprint data_types[key]\n",
    "\tprint '------------'\n",
    "\n",
    "print np.isnan(data_dict['LOCKHART EUGENE E']['salary'])"
   ]
  },
  {
   "cell_type": "markdown",
   "metadata": {},
   "source": [
    "### Number of NaN values"
   ]
  },
  {
   "cell_type": "code",
   "execution_count": 82,
   "metadata": {
    "collapsed": false
   },
   "outputs": [
    {
     "name": "stdout",
     "output_type": "stream",
     "text": [
      "MISSING DATA (NaN)\n",
      "==================\n",
      "Count of NaN Values (for each feature) :\n",
      "\n",
      "loan_advances 142\n",
      "director_fees 129\n",
      "restricted_stock_deferred 128\n",
      "deferral_payments 107\n",
      "deferred_income 97\n",
      "long_term_incentive 80\n",
      "bonus 64\n",
      "to_messages 60\n",
      "shared_receipt_with_poi 60\n",
      "from_messages 60\n",
      "from_this_person_to_poi 60\n",
      "from_poi_to_this_person 60\n",
      "other 53\n",
      "salary 51\n",
      "expenses 51\n",
      "exercised_stock_options 44\n",
      "restricted_stock 36\n",
      "total_payments 21\n",
      "total_stock_value 20\n",
      "poi 0\n",
      "\n",
      "\n",
      "NaN by Data Point\n",
      "=================\n",
      "LOCKHART EUGENE E 19\n",
      "WODRASKA JOHN 17\n",
      "WHALEY DAVID A 17\n",
      "WROBEL BRUCE 17\n",
      "THE TRAVEL AGENCY IN THE PARK 17\n",
      "SCRIMSHAW MATTHEW 17\n",
      "GRAMM WENDY L 17\n",
      "CLINE KENNETH W 16\n",
      "WAKEHAM JOHN 16\n",
      "GILLIS JOHN 16\n",
      "CHRISTODOULOU DIOMEDES 16\n",
      "SAVAGE FRANK 16\n",
      "LOWRY CHARLES P 15\n",
      "CHAN RONNIE 15\n"
     ]
    }
   ],
   "source": [
    "print 'MISSING DATA (NaN)'\n",
    "print '=================='\n",
    "print 'Count of NaN Values (for each feature) :'\n",
    "print\n",
    "# Initialize Counts:\n",
    "count_nan = defaultdict(int)\n",
    "for key in data_dict[first_key].keys():\n",
    "\tcount_nan[key] = 0\n",
    "# Increment Counter\n",
    "for person in data_dict:\n",
    "\tfor key in data_dict[person].keys():\n",
    "\t\tif np.isnan(data_dict[person][key]):\n",
    "\t\t\tcount_nan[key] += 1\n",
    "# Sort dictionary by value and print values\n",
    "for key in sorted(count_nan, key=count_nan.get, reverse=True):\n",
    "  print key, count_nan[key]\n",
    "\n",
    "print \n",
    "print\n",
    "print 'NaN by Data Point'\n",
    "print '================='\n",
    "count_nan_ind = defaultdict(int)\n",
    "for person in data_dict:\n",
    "\tcnt = 0\n",
    "\tfor key in data_dict[person].keys():\n",
    "\t\tif np.isnan(data_dict[person][key]):\n",
    "\t\t\tcnt += 1\n",
    "\tcount_nan_ind[person] = cnt\n",
    "\n",
    "for key in sorted(count_nan_ind, key = count_nan_ind.get, reverse=True)[0:14]:\n",
    "\tprint key, count_nan_ind[key]"
   ]
  },
  {
   "cell_type": "markdown",
   "metadata": {},
   "source": [
    "### Remove Outliers\n",
    "'TOTAL'\n",
    "\n",
    "'THE TRAVEL AGENCY IN THE PARK'\n",
    "\n",
    "'LOCKHART EUGENE E'"
   ]
  },
  {
   "cell_type": "code",
   "execution_count": 83,
   "metadata": {
    "collapsed": false
   },
   "outputs": [
    {
     "name": "stdout",
     "output_type": "stream",
     "text": [
      "Initial Length: 146\n",
      "Length after Outlier Removal: 143\n"
     ]
    }
   ],
   "source": [
    "outliers = ['TOTAL','THE TRAVEL AGENCY IN THE PARK','LOCKHART EUGENE E']\n",
    "print 'Initial Length:', len(data_dict)\n",
    "for name in outliers:\n",
    "    data_dict.pop(name)\n",
    "print 'Length after Outlier Removal:', len(data_dict)"
   ]
  },
  {
   "cell_type": "markdown",
   "metadata": {},
   "source": [
    "### Apply Imputer to remove NaN values"
   ]
  },
  {
   "cell_type": "code",
   "execution_count": 88,
   "metadata": {
    "collapsed": false
   },
   "outputs": [
    {
     "ename": "TypeError",
     "evalue": "float() argument must be a string or a number",
     "output_type": "error",
     "traceback": [
      "\u001b[0;31m---------------------------------------------------------------------------\u001b[0m",
      "\u001b[0;31mTypeError\u001b[0m                                 Traceback (most recent call last)",
      "\u001b[0;32m<ipython-input-88-a741a20770c1>\u001b[0m in \u001b[0;36m<module>\u001b[0;34m()\u001b[0m\n\u001b[1;32m      2\u001b[0m \u001b[0mimp\u001b[0m \u001b[0;34m=\u001b[0m \u001b[0mImputer\u001b[0m\u001b[0;34m(\u001b[0m\u001b[0mmissing_values\u001b[0m \u001b[0;34m=\u001b[0m \u001b[0mnp\u001b[0m\u001b[0;34m.\u001b[0m\u001b[0mnan\u001b[0m\u001b[0;34m,\u001b[0m \u001b[0mstrategy\u001b[0m \u001b[0;34m=\u001b[0m \u001b[0;34m'median'\u001b[0m\u001b[0;34m,\u001b[0m \u001b[0maxis\u001b[0m \u001b[0;34m=\u001b[0m \u001b[0;36m0\u001b[0m\u001b[0;34m)\u001b[0m\u001b[0;34m\u001b[0m\u001b[0m\n\u001b[1;32m      3\u001b[0m \u001b[0mimp\u001b[0m\u001b[0;34m\u001b[0m\u001b[0m\n\u001b[0;32m----> 4\u001b[0;31m \u001b[0mimp\u001b[0m\u001b[0;34m.\u001b[0m\u001b[0mfit\u001b[0m\u001b[0;34m(\u001b[0m\u001b[0mdata_dict\u001b[0m\u001b[0;34m)\u001b[0m\u001b[0;34m\u001b[0m\u001b[0m\n\u001b[0m\u001b[1;32m      5\u001b[0m \u001b[0;31m#data_dict = imp.transform(data_dict)\u001b[0m\u001b[0;34m\u001b[0m\u001b[0;34m\u001b[0m\u001b[0m\n",
      "\u001b[0;32m/Users/chrisgiler_developer/anaconda/lib/python2.7/site-packages/sklearn/preprocessing/imputation.pyc\u001b[0m in \u001b[0;36mfit\u001b[0;34m(self, X, y)\u001b[0m\n\u001b[1;32m    152\u001b[0m         \u001b[0;32mif\u001b[0m \u001b[0mself\u001b[0m\u001b[0;34m.\u001b[0m\u001b[0maxis\u001b[0m \u001b[0;34m==\u001b[0m \u001b[0;36m0\u001b[0m\u001b[0;34m:\u001b[0m\u001b[0;34m\u001b[0m\u001b[0m\n\u001b[1;32m    153\u001b[0m             X = check_array(X, accept_sparse='csc', dtype=np.float64,\n\u001b[0;32m--> 154\u001b[0;31m                             force_all_finite=False)\n\u001b[0m\u001b[1;32m    155\u001b[0m \u001b[0;34m\u001b[0m\u001b[0m\n\u001b[1;32m    156\u001b[0m             \u001b[0;32mif\u001b[0m \u001b[0msparse\u001b[0m\u001b[0;34m.\u001b[0m\u001b[0missparse\u001b[0m\u001b[0;34m(\u001b[0m\u001b[0mX\u001b[0m\u001b[0;34m)\u001b[0m\u001b[0;34m:\u001b[0m\u001b[0;34m\u001b[0m\u001b[0m\n",
      "\u001b[0;32m/Users/chrisgiler_developer/anaconda/lib/python2.7/site-packages/sklearn/utils/validation.pyc\u001b[0m in \u001b[0;36mcheck_array\u001b[0;34m(array, accept_sparse, dtype, order, copy, force_all_finite, ensure_2d, allow_nd, ensure_min_samples, ensure_min_features)\u001b[0m\n\u001b[1;32m    342\u001b[0m             \u001b[0;32melse\u001b[0m\u001b[0;34m:\u001b[0m\u001b[0;34m\u001b[0m\u001b[0m\n\u001b[1;32m    343\u001b[0m                 \u001b[0mdtype\u001b[0m \u001b[0;34m=\u001b[0m \u001b[0mNone\u001b[0m\u001b[0;34m\u001b[0m\u001b[0m\n\u001b[0;32m--> 344\u001b[0;31m         \u001b[0marray\u001b[0m \u001b[0;34m=\u001b[0m \u001b[0mnp\u001b[0m\u001b[0;34m.\u001b[0m\u001b[0marray\u001b[0m\u001b[0;34m(\u001b[0m\u001b[0marray\u001b[0m\u001b[0;34m,\u001b[0m \u001b[0mdtype\u001b[0m\u001b[0;34m=\u001b[0m\u001b[0mdtype\u001b[0m\u001b[0;34m,\u001b[0m \u001b[0morder\u001b[0m\u001b[0;34m=\u001b[0m\u001b[0morder\u001b[0m\u001b[0;34m,\u001b[0m \u001b[0mcopy\u001b[0m\u001b[0;34m=\u001b[0m\u001b[0mcopy\u001b[0m\u001b[0;34m)\u001b[0m\u001b[0;34m\u001b[0m\u001b[0m\n\u001b[0m\u001b[1;32m    345\u001b[0m         \u001b[0;31m# make sure we actually converted to numeric:\u001b[0m\u001b[0;34m\u001b[0m\u001b[0;34m\u001b[0m\u001b[0m\n\u001b[1;32m    346\u001b[0m         \u001b[0;32mif\u001b[0m \u001b[0mdtype_numeric\u001b[0m \u001b[0;32mand\u001b[0m \u001b[0marray\u001b[0m\u001b[0;34m.\u001b[0m\u001b[0mdtype\u001b[0m\u001b[0;34m.\u001b[0m\u001b[0mkind\u001b[0m \u001b[0;34m==\u001b[0m \u001b[0;34m\"O\"\u001b[0m\u001b[0;34m:\u001b[0m\u001b[0;34m\u001b[0m\u001b[0m\n",
      "\u001b[0;31mTypeError\u001b[0m: float() argument must be a string or a number"
     ]
    }
   ],
   "source": [
    "from sklearn.preprocessing import Imputer\n",
    "imp = Imputer(missing_values = np.nan, strategy = 'median', axis = 0)\n",
    "imp\n",
    "imp.fit(data_dict)\n",
    "#data_dict = imp.transform(data_dict)"
   ]
  },
  {
   "cell_type": "code",
   "execution_count": 71,
   "metadata": {
    "collapsed": false
   },
   "outputs": [
    {
     "data": {
      "text/html": [
       "<div>\n",
       "<table border=\"1\" class=\"dataframe\">\n",
       "  <thead>\n",
       "    <tr style=\"text-align: right;\">\n",
       "      <th></th>\n",
       "      <th>salary</th>\n",
       "      <th>to_messages</th>\n",
       "      <th>deferral_payments</th>\n",
       "      <th>total_payments</th>\n",
       "      <th>loan_advances</th>\n",
       "      <th>bonus</th>\n",
       "      <th>restricted_stock_deferred</th>\n",
       "      <th>total_stock_value</th>\n",
       "      <th>shared_receipt_with_poi</th>\n",
       "      <th>long_term_incentive</th>\n",
       "      <th>exercised_stock_options</th>\n",
       "      <th>from_messages</th>\n",
       "      <th>other</th>\n",
       "      <th>from_poi_to_this_person</th>\n",
       "      <th>from_this_person_to_poi</th>\n",
       "      <th>poi</th>\n",
       "      <th>deferred_income</th>\n",
       "      <th>expenses</th>\n",
       "      <th>restricted_stock</th>\n",
       "      <th>director_fees</th>\n",
       "    </tr>\n",
       "  </thead>\n",
       "  <tbody>\n",
       "    <tr>\n",
       "      <th>ALLEN PHILLIP K</th>\n",
       "      <td>201955</td>\n",
       "      <td>2902</td>\n",
       "      <td>2869717</td>\n",
       "      <td>4484442</td>\n",
       "      <td>NaN</td>\n",
       "      <td>4175000</td>\n",
       "      <td>-126027</td>\n",
       "      <td>1729541</td>\n",
       "      <td>1407</td>\n",
       "      <td>304805</td>\n",
       "      <td>1729541</td>\n",
       "      <td>2195</td>\n",
       "      <td>152</td>\n",
       "      <td>47</td>\n",
       "      <td>65</td>\n",
       "      <td>False</td>\n",
       "      <td>-3081055</td>\n",
       "      <td>13868</td>\n",
       "      <td>126027</td>\n",
       "      <td>NaN</td>\n",
       "    </tr>\n",
       "    <tr>\n",
       "      <th>BADUM JAMES P</th>\n",
       "      <td>NaN</td>\n",
       "      <td>NaN</td>\n",
       "      <td>178980</td>\n",
       "      <td>182466</td>\n",
       "      <td>NaN</td>\n",
       "      <td>NaN</td>\n",
       "      <td>NaN</td>\n",
       "      <td>257817</td>\n",
       "      <td>NaN</td>\n",
       "      <td>NaN</td>\n",
       "      <td>257817</td>\n",
       "      <td>NaN</td>\n",
       "      <td>NaN</td>\n",
       "      <td>NaN</td>\n",
       "      <td>NaN</td>\n",
       "      <td>False</td>\n",
       "      <td>NaN</td>\n",
       "      <td>3486</td>\n",
       "      <td>NaN</td>\n",
       "      <td>NaN</td>\n",
       "    </tr>\n",
       "    <tr>\n",
       "      <th>BANNANTINE JAMES M</th>\n",
       "      <td>477</td>\n",
       "      <td>566</td>\n",
       "      <td>NaN</td>\n",
       "      <td>916197</td>\n",
       "      <td>NaN</td>\n",
       "      <td>NaN</td>\n",
       "      <td>-560222</td>\n",
       "      <td>5243487</td>\n",
       "      <td>465</td>\n",
       "      <td>NaN</td>\n",
       "      <td>4046157</td>\n",
       "      <td>29</td>\n",
       "      <td>864523</td>\n",
       "      <td>39</td>\n",
       "      <td>0</td>\n",
       "      <td>False</td>\n",
       "      <td>-5104</td>\n",
       "      <td>56301</td>\n",
       "      <td>1757552</td>\n",
       "      <td>NaN</td>\n",
       "    </tr>\n",
       "    <tr>\n",
       "      <th>BAXTER JOHN C</th>\n",
       "      <td>267102</td>\n",
       "      <td>NaN</td>\n",
       "      <td>1295738</td>\n",
       "      <td>5634343</td>\n",
       "      <td>NaN</td>\n",
       "      <td>1200000</td>\n",
       "      <td>NaN</td>\n",
       "      <td>10623258</td>\n",
       "      <td>NaN</td>\n",
       "      <td>1586055</td>\n",
       "      <td>6680544</td>\n",
       "      <td>NaN</td>\n",
       "      <td>2660303</td>\n",
       "      <td>NaN</td>\n",
       "      <td>NaN</td>\n",
       "      <td>False</td>\n",
       "      <td>-1386055</td>\n",
       "      <td>11200</td>\n",
       "      <td>3942714</td>\n",
       "      <td>NaN</td>\n",
       "    </tr>\n",
       "    <tr>\n",
       "      <th>BAY FRANKLIN R</th>\n",
       "      <td>239671</td>\n",
       "      <td>NaN</td>\n",
       "      <td>260455</td>\n",
       "      <td>827696</td>\n",
       "      <td>NaN</td>\n",
       "      <td>400000</td>\n",
       "      <td>-82782</td>\n",
       "      <td>63014</td>\n",
       "      <td>NaN</td>\n",
       "      <td>NaN</td>\n",
       "      <td>NaN</td>\n",
       "      <td>NaN</td>\n",
       "      <td>69</td>\n",
       "      <td>NaN</td>\n",
       "      <td>NaN</td>\n",
       "      <td>False</td>\n",
       "      <td>-201641</td>\n",
       "      <td>129142</td>\n",
       "      <td>145796</td>\n",
       "      <td>NaN</td>\n",
       "    </tr>\n",
       "  </tbody>\n",
       "</table>\n",
       "</div>"
      ],
      "text/plain": [
       "                    salary  to_messages  deferral_payments  total_payments  \\\n",
       "ALLEN PHILLIP K     201955         2902            2869717         4484442   \n",
       "BADUM JAMES P          NaN          NaN             178980          182466   \n",
       "BANNANTINE JAMES M     477          566                NaN          916197   \n",
       "BAXTER JOHN C       267102          NaN            1295738         5634343   \n",
       "BAY FRANKLIN R      239671          NaN             260455          827696   \n",
       "\n",
       "                    loan_advances    bonus  restricted_stock_deferred  \\\n",
       "ALLEN PHILLIP K               NaN  4175000                    -126027   \n",
       "BADUM JAMES P                 NaN      NaN                        NaN   \n",
       "BANNANTINE JAMES M            NaN      NaN                    -560222   \n",
       "BAXTER JOHN C                 NaN  1200000                        NaN   \n",
       "BAY FRANKLIN R                NaN   400000                     -82782   \n",
       "\n",
       "                    total_stock_value  shared_receipt_with_poi  \\\n",
       "ALLEN PHILLIP K               1729541                     1407   \n",
       "BADUM JAMES P                  257817                      NaN   \n",
       "BANNANTINE JAMES M            5243487                      465   \n",
       "BAXTER JOHN C                10623258                      NaN   \n",
       "BAY FRANKLIN R                  63014                      NaN   \n",
       "\n",
       "                    long_term_incentive  exercised_stock_options  \\\n",
       "ALLEN PHILLIP K                  304805                  1729541   \n",
       "BADUM JAMES P                       NaN                   257817   \n",
       "BANNANTINE JAMES M                  NaN                  4046157   \n",
       "BAXTER JOHN C                   1586055                  6680544   \n",
       "BAY FRANKLIN R                      NaN                      NaN   \n",
       "\n",
       "                    from_messages    other  from_poi_to_this_person  \\\n",
       "ALLEN PHILLIP K              2195      152                       47   \n",
       "BADUM JAMES P                 NaN      NaN                      NaN   \n",
       "BANNANTINE JAMES M             29   864523                       39   \n",
       "BAXTER JOHN C                 NaN  2660303                      NaN   \n",
       "BAY FRANKLIN R                NaN       69                      NaN   \n",
       "\n",
       "                    from_this_person_to_poi    poi  deferred_income  expenses  \\\n",
       "ALLEN PHILLIP K                          65  False         -3081055     13868   \n",
       "BADUM JAMES P                           NaN  False              NaN      3486   \n",
       "BANNANTINE JAMES M                        0  False            -5104     56301   \n",
       "BAXTER JOHN C                           NaN  False         -1386055     11200   \n",
       "BAY FRANKLIN R                          NaN  False          -201641    129142   \n",
       "\n",
       "                    restricted_stock  director_fees  \n",
       "ALLEN PHILLIP K               126027            NaN  \n",
       "BADUM JAMES P                    NaN            NaN  \n",
       "BANNANTINE JAMES M           1757552            NaN  \n",
       "BAXTER JOHN C                3942714            NaN  \n",
       "BAY FRANKLIN R                145796            NaN  "
      ]
     },
     "execution_count": 71,
     "metadata": {},
     "output_type": "execute_result"
    }
   ],
   "source": [
    "df = pd.DataFrame.from_dict(data_dict, orient='index')\n",
    "df.head()"
   ]
  },
  {
   "cell_type": "code",
   "execution_count": 60,
   "metadata": {
    "collapsed": false
   },
   "outputs": [
    {
     "data": {
      "text/html": [
       "<div>\n",
       "<table border=\"1\" class=\"dataframe\">\n",
       "  <thead>\n",
       "    <tr style=\"text-align: right;\">\n",
       "      <th></th>\n",
       "      <th>salary</th>\n",
       "      <th>to_messages</th>\n",
       "      <th>deferral_payments</th>\n",
       "      <th>total_payments</th>\n",
       "      <th>exercised_stock_options</th>\n",
       "      <th>bonus</th>\n",
       "      <th>restricted_stock</th>\n",
       "      <th>shared_receipt_with_poi</th>\n",
       "      <th>restricted_stock_deferred</th>\n",
       "      <th>total_stock_value</th>\n",
       "      <th>expenses</th>\n",
       "      <th>loan_advances</th>\n",
       "      <th>from_messages</th>\n",
       "      <th>other</th>\n",
       "      <th>from_this_person_to_poi</th>\n",
       "      <th>poi</th>\n",
       "      <th>director_fees</th>\n",
       "      <th>deferred_income</th>\n",
       "      <th>long_term_incentive</th>\n",
       "      <th>from_poi_to_this_person</th>\n",
       "    </tr>\n",
       "  </thead>\n",
       "  <tbody>\n",
       "    <tr>\n",
       "      <th>ALLEN PHILLIP K</th>\n",
       "      <td>201955</td>\n",
       "      <td>2902</td>\n",
       "      <td>2869717.0</td>\n",
       "      <td>4484442</td>\n",
       "      <td>1729541</td>\n",
       "      <td>4175000</td>\n",
       "      <td>126027</td>\n",
       "      <td>1407.0</td>\n",
       "      <td>-126027</td>\n",
       "      <td>1729541</td>\n",
       "      <td>13868</td>\n",
       "      <td>2000000</td>\n",
       "      <td>2195</td>\n",
       "      <td>152</td>\n",
       "      <td>65</td>\n",
       "      <td>False</td>\n",
       "      <td>106164.5</td>\n",
       "      <td>-3081055</td>\n",
       "      <td>304805</td>\n",
       "      <td>47</td>\n",
       "    </tr>\n",
       "    <tr>\n",
       "      <th>BADUM JAMES P</th>\n",
       "      <td>258741</td>\n",
       "      <td>1211</td>\n",
       "      <td>178980.0</td>\n",
       "      <td>182466</td>\n",
       "      <td>257817</td>\n",
       "      <td>750000</td>\n",
       "      <td>441096</td>\n",
       "      <td>740.5</td>\n",
       "      <td>-140264</td>\n",
       "      <td>257817</td>\n",
       "      <td>3486</td>\n",
       "      <td>2000000</td>\n",
       "      <td>41</td>\n",
       "      <td>51587</td>\n",
       "      <td>8</td>\n",
       "      <td>False</td>\n",
       "      <td>106164.5</td>\n",
       "      <td>-151927</td>\n",
       "      <td>422158</td>\n",
       "      <td>35</td>\n",
       "    </tr>\n",
       "    <tr>\n",
       "      <th>BANNANTINE JAMES M</th>\n",
       "      <td>477</td>\n",
       "      <td>566</td>\n",
       "      <td>221063.5</td>\n",
       "      <td>916197</td>\n",
       "      <td>4046157</td>\n",
       "      <td>750000</td>\n",
       "      <td>1757552</td>\n",
       "      <td>465.0</td>\n",
       "      <td>-560222</td>\n",
       "      <td>5243487</td>\n",
       "      <td>56301</td>\n",
       "      <td>2000000</td>\n",
       "      <td>29</td>\n",
       "      <td>864523</td>\n",
       "      <td>0</td>\n",
       "      <td>False</td>\n",
       "      <td>106164.5</td>\n",
       "      <td>-5104</td>\n",
       "      <td>422158</td>\n",
       "      <td>39</td>\n",
       "    </tr>\n",
       "    <tr>\n",
       "      <th>BAXTER JOHN C</th>\n",
       "      <td>267102</td>\n",
       "      <td>1211</td>\n",
       "      <td>1295738.0</td>\n",
       "      <td>5634343</td>\n",
       "      <td>6680544</td>\n",
       "      <td>1200000</td>\n",
       "      <td>3942714</td>\n",
       "      <td>740.5</td>\n",
       "      <td>-140264</td>\n",
       "      <td>10623258</td>\n",
       "      <td>11200</td>\n",
       "      <td>2000000</td>\n",
       "      <td>41</td>\n",
       "      <td>2660303</td>\n",
       "      <td>8</td>\n",
       "      <td>False</td>\n",
       "      <td>106164.5</td>\n",
       "      <td>-1386055</td>\n",
       "      <td>1586055</td>\n",
       "      <td>35</td>\n",
       "    </tr>\n",
       "    <tr>\n",
       "      <th>BAY FRANKLIN R</th>\n",
       "      <td>239671</td>\n",
       "      <td>1211</td>\n",
       "      <td>260455.0</td>\n",
       "      <td>827696</td>\n",
       "      <td>1297049</td>\n",
       "      <td>400000</td>\n",
       "      <td>145796</td>\n",
       "      <td>740.5</td>\n",
       "      <td>-82782</td>\n",
       "      <td>63014</td>\n",
       "      <td>129142</td>\n",
       "      <td>2000000</td>\n",
       "      <td>41</td>\n",
       "      <td>69</td>\n",
       "      <td>8</td>\n",
       "      <td>False</td>\n",
       "      <td>106164.5</td>\n",
       "      <td>-201641</td>\n",
       "      <td>422158</td>\n",
       "      <td>35</td>\n",
       "    </tr>\n",
       "  </tbody>\n",
       "</table>\n",
       "</div>"
      ],
      "text/plain": [
       "                    salary  to_messages  deferral_payments  total_payments  \\\n",
       "ALLEN PHILLIP K     201955         2902          2869717.0         4484442   \n",
       "BADUM JAMES P       258741         1211           178980.0          182466   \n",
       "BANNANTINE JAMES M     477          566           221063.5          916197   \n",
       "BAXTER JOHN C       267102         1211          1295738.0         5634343   \n",
       "BAY FRANKLIN R      239671         1211           260455.0          827696   \n",
       "\n",
       "                    exercised_stock_options    bonus  restricted_stock  \\\n",
       "ALLEN PHILLIP K                     1729541  4175000            126027   \n",
       "BADUM JAMES P                        257817   750000            441096   \n",
       "BANNANTINE JAMES M                  4046157   750000           1757552   \n",
       "BAXTER JOHN C                       6680544  1200000           3942714   \n",
       "BAY FRANKLIN R                      1297049   400000            145796   \n",
       "\n",
       "                    shared_receipt_with_poi  restricted_stock_deferred  \\\n",
       "ALLEN PHILLIP K                      1407.0                    -126027   \n",
       "BADUM JAMES P                         740.5                    -140264   \n",
       "BANNANTINE JAMES M                    465.0                    -560222   \n",
       "BAXTER JOHN C                         740.5                    -140264   \n",
       "BAY FRANKLIN R                        740.5                     -82782   \n",
       "\n",
       "                    total_stock_value  expenses  loan_advances  from_messages  \\\n",
       "ALLEN PHILLIP K               1729541     13868        2000000           2195   \n",
       "BADUM JAMES P                  257817      3486        2000000             41   \n",
       "BANNANTINE JAMES M            5243487     56301        2000000             29   \n",
       "BAXTER JOHN C                10623258     11200        2000000             41   \n",
       "BAY FRANKLIN R                  63014    129142        2000000             41   \n",
       "\n",
       "                      other  from_this_person_to_poi    poi  director_fees  \\\n",
       "ALLEN PHILLIP K         152                       65  False       106164.5   \n",
       "BADUM JAMES P         51587                        8  False       106164.5   \n",
       "BANNANTINE JAMES M   864523                        0  False       106164.5   \n",
       "BAXTER JOHN C       2660303                        8  False       106164.5   \n",
       "BAY FRANKLIN R           69                        8  False       106164.5   \n",
       "\n",
       "                    deferred_income  long_term_incentive  \\\n",
       "ALLEN PHILLIP K            -3081055               304805   \n",
       "BADUM JAMES P               -151927               422158   \n",
       "BANNANTINE JAMES M            -5104               422158   \n",
       "BAXTER JOHN C              -1386055              1586055   \n",
       "BAY FRANKLIN R              -201641               422158   \n",
       "\n",
       "                    from_poi_to_this_person  \n",
       "ALLEN PHILLIP K                          47  \n",
       "BADUM JAMES P                            35  \n",
       "BANNANTINE JAMES M                       39  \n",
       "BAXTER JOHN C                            35  \n",
       "BAY FRANKLIN R                           35  "
      ]
     },
     "execution_count": 60,
     "metadata": {},
     "output_type": "execute_result"
    }
   ],
   "source": [
    "### Fill NaN Values\n",
    "df = df.apply(lambda x: x.fillna(x.mean()), axis=0)\n",
    "df.head()"
   ]
  },
  {
   "cell_type": "code",
   "execution_count": null,
   "metadata": {
    "collapsed": true
   },
   "outputs": [],
   "source": []
  }
 ],
 "metadata": {
  "kernelspec": {
   "display_name": "Python 2",
   "language": "python",
   "name": "python2"
  },
  "language_info": {
   "codemirror_mode": {
    "name": "ipython",
    "version": 2
   },
   "file_extension": ".py",
   "mimetype": "text/x-python",
   "name": "python",
   "nbconvert_exporter": "python",
   "pygments_lexer": "ipython2",
   "version": "2.7.9"
  }
 },
 "nbformat": 4,
 "nbformat_minor": 0
}
