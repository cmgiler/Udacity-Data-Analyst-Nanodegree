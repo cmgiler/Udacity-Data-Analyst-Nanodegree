{
 "cells": [
  {
   "cell_type": "code",
   "execution_count": 38,
   "metadata": {
    "collapsed": false
   },
   "outputs": [],
   "source": [
    "import sys\n",
    "import pickle\n",
    "sys.path.append(\"../tools/\")\n",
    "\n",
    "from feature_format import featureFormat, targetFeatureSplit\n",
    "from tester import test_classifier, dump_classifier_and_data\n",
    "import matplotlib.pyplot as plt\n",
    "import numpy as np\n",
    "import pandas as pd\n",
    "from collections import defaultdict\n",
    "from time import time\n",
    "\n",
    "# Import classifiers to test\n",
    "from sklearn.naive_bayes import GaussianNB\n",
    "from sklearn.svm import SVC\n",
    "from sklearn.linear_model import LogisticRegression\n",
    "from sklearn.tree import DecisionTreeClassifier\n",
    "from sklearn.neighbors import KNeighborsClassifier\n",
    "from sklearn.ensemble import AdaBoostClassifier\n",
    "from sklearn.ensemble import RandomForestClassifier\n",
    "\n",
    "from sklearn.feature_selection import SelectKBest\n",
    "from sklearn.pipeline import Pipeline\n",
    "from sklearn.decomposition import PCA\n",
    "\n",
    "# Import metrics to analyze results\n",
    "from sklearn.metrics import accuracy_score\n",
    "from sklearn.metrics import recall_score\n",
    "from sklearn.metrics import precision_score\n",
    "from sklearn.metrics import f1_score\n",
    "from sklearn.metrics import classification_report\n",
    "\n",
    "# Import functions for cross validation and parameter optimization\n",
    "from sklearn.grid_search import GridSearchCV\n",
    "from sklearn.cross_validation import train_test_split"
   ]
  },
  {
   "cell_type": "code",
   "execution_count": 39,
   "metadata": {
    "collapsed": true
   },
   "outputs": [],
   "source": [
    "### Task 1: Select what features you'll use.\n",
    "### features_list is a list of strings, each of which is a feature name.\n",
    "### The first feature must be \"poi\".\n",
    "\n",
    "features_list = ['poi', 'salary', 'to_messages', 'deferral_payments', 'total_payments',\n",
    "       'exercised_stock_options', 'bonus', 'restricted_stock',\n",
    "       'shared_receipt_with_poi', 'restricted_stock_deferred',\n",
    "       'total_stock_value', 'expenses', 'loan_advances', 'from_messages',\n",
    "       'other', 'from_this_person_to_poi', 'director_fees',\n",
    "       'deferred_income', 'long_term_incentive',\n",
    "       'from_poi_to_this_person']"
   ]
  },
  {
   "cell_type": "code",
   "execution_count": 40,
   "metadata": {
    "collapsed": false
   },
   "outputs": [],
   "source": [
    "with open(\"final_project_dataset.pkl\", \"r\") as data_file:\n",
    "    data_dict = pickle.load(data_file)"
   ]
  },
  {
   "cell_type": "code",
   "execution_count": 41,
   "metadata": {
    "collapsed": false
   },
   "outputs": [
    {
     "data": {
      "text/plain": [
       "146"
      ]
     },
     "execution_count": 41,
     "metadata": {},
     "output_type": "execute_result"
    }
   ],
   "source": [
    "len(data_dict.keys())"
   ]
  },
  {
   "cell_type": "code",
   "execution_count": 42,
   "metadata": {
    "collapsed": false
   },
   "outputs": [
    {
     "name": "stdout",
     "output_type": "stream",
     "text": [
      "salary 365788\n",
      "to_messages 807\n",
      "deferral_payments NaN\n",
      "total_payments 1061827\n",
      "exercised_stock_options NaN\n",
      "bonus 600000\n",
      "restricted_stock 585062\n",
      "shared_receipt_with_poi 702\n",
      "restricted_stock_deferred NaN\n",
      "total_stock_value 585062\n",
      "expenses 94299\n",
      "loan_advances NaN\n",
      "from_messages 29\n",
      "other 1740\n",
      "from_this_person_to_poi 1\n",
      "poi False\n",
      "director_fees NaN\n",
      "deferred_income NaN\n",
      "long_term_incentive NaN\n",
      "email_address mark.metts@enron.com\n",
      "from_poi_to_this_person 38\n",
      "21\n"
     ]
    }
   ],
   "source": [
    "for item in data_dict['METTS MARK'].keys():\n",
    "    print item, data_dict['METTS MARK'][item]\n",
    "print len(data_dict['METTS MARK'].keys())"
   ]
  },
  {
   "cell_type": "markdown",
   "metadata": {},
   "source": [
    "### Number of data points\n",
    "Number of POI vs. Non-POI"
   ]
  },
  {
   "cell_type": "code",
   "execution_count": 57,
   "metadata": {
    "collapsed": false
   },
   "outputs": [
    {
     "name": "stdout",
     "output_type": "stream",
     "text": [
      "DATA POINTS\n",
      "===========\n",
      "143 total data points\n",
      "HANNON KEVIN P\n",
      "COLWELL WESLEY\n",
      "RIEKER PAULA H\n",
      "KOPPER MICHAEL J\n",
      "SHELBY REX\n",
      "DELAINEY DAVID W\n",
      "LAY KENNETH L\n",
      "BOWEN JR RAYMOND M\n",
      "BELDEN TIMOTHY N\n",
      "FASTOW ANDREW S\n",
      "CALGER CHRISTOPHER F\n",
      "RICE KENNETH D\n",
      "SKILLING JEFFREY K\n",
      "YEAGER F SCOTT\n",
      "HIRKO JOSEPH\n",
      "KOENIG MARK E\n",
      "CAUSEY RICHARD A\n",
      "GLISAN JR BEN F\n",
      "18 POI;\t125 non-POI\n"
     ]
    }
   ],
   "source": [
    "print 'DATA POINTS'\n",
    "print '==========='\n",
    "print len(data_dict), 'total data points'\n",
    "count_poi = 0\n",
    "for person in data_dict:\n",
    "    if data_dict[person]['poi'] == 1:\n",
    "        count_poi += 1\n",
    "        print person\n",
    "print count_poi, 'POI;\t', len(data_dict) - count_poi, 'non-POI'"
   ]
  },
  {
   "cell_type": "markdown",
   "metadata": {},
   "source": [
    "### Convert all 'str' and 'int' types to 'float' type"
   ]
  },
  {
   "cell_type": "code",
   "execution_count": 44,
   "metadata": {
    "collapsed": false
   },
   "outputs": [],
   "source": [
    "df = pd.DataFrame.from_dict(data_dict, orient='index')\n",
    "df = df.replace('NaN',np.nan)\n",
    "df = df.drop('email_address', 1)\n",
    "\n",
    "# Convert NaN to Median Value\n",
    "df = df.apply(lambda x: x.fillna(x.median()), axis=0)\n",
    "\n",
    "# Create new features\n",
    "# Fraction from poi\n",
    "df['fraction_from_poi'] = df['from_poi_to_this_person']/df['from_messages']\n",
    "features_list.append('fraction_from_poi')\n",
    "# Fraction to poi\n",
    "df['fraction_to_poi'] = df['from_this_person_to_poi']/df['to_messages']\n",
    "features_list.append('fraction_to_poi')\n",
    "\n",
    "data_dict = df.T.to_dict()"
   ]
  },
  {
   "cell_type": "markdown",
   "metadata": {},
   "source": [
    "### Number of Features\n",
    "Split by type"
   ]
  },
  {
   "cell_type": "code",
   "execution_count": 45,
   "metadata": {
    "collapsed": false
   },
   "outputs": [
    {
     "name": "stdout",
     "output_type": "stream",
     "text": [
      "FEATURES\n",
      "========\n",
      "22 features total\n",
      "\n",
      "Feature breakdown:\n",
      "\n",
      "Data Types:\n",
      "<type 'float'> :\n",
      "['to_messages', 'deferral_payments', 'expenses', 'long_term_incentive', 'from_poi_to_this_person', 'deferred_income', 'fraction_from_poi', 'restricted_stock_deferred', 'shared_receipt_with_poi', 'loan_advances', 'from_messages', 'other', 'director_fees', 'bonus', 'total_stock_value', 'from_this_person_to_poi', 'restricted_stock', 'salary', 'total_payments', 'fraction_to_poi', 'exercised_stock_options']\n",
      "------------\n",
      "<type 'bool'> :\n",
      "['poi']\n",
      "------------\n",
      "False\n"
     ]
    }
   ],
   "source": [
    "print 'FEATURES'\n",
    "print '========'\n",
    "first_key = data_dict.keys()[0]\n",
    "print len(data_dict[first_key].keys()), 'features total'\n",
    "print\n",
    "print 'Feature breakdown:'\n",
    "data_types = defaultdict(list)\n",
    "for key in data_dict[first_key].keys():\n",
    "\tdata_type = type(data_dict[first_key][key])\n",
    "\tdata_types[data_type].append(key)\n",
    "print\n",
    "print 'Data Types:'\n",
    "for key in data_types:\n",
    "\tprint key,':'\n",
    "#\tfor item in data_types[key]:\n",
    "#\t\tprint '   ', item\n",
    "\tprint data_types[key]\n",
    "\tprint '------------'\n",
    "\n",
    "print np.isnan(data_dict['LOCKHART EUGENE E']['salary'])"
   ]
  },
  {
   "cell_type": "markdown",
   "metadata": {},
   "source": [
    "### Number of NaN values"
   ]
  },
  {
   "cell_type": "code",
   "execution_count": 46,
   "metadata": {
    "collapsed": false
   },
   "outputs": [
    {
     "name": "stdout",
     "output_type": "stream",
     "text": [
      "MISSING DATA (NaN)\n",
      "==================\n",
      "Count of NaN Values (for each feature) :\n",
      "\n",
      "to_messages 0\n",
      "deferral_payments 0\n",
      "expenses 0\n",
      "poi 0\n",
      "deferred_income 0\n",
      "long_term_incentive 0\n",
      "fraction_from_poi 0\n",
      "restricted_stock_deferred 0\n",
      "shared_receipt_with_poi 0\n",
      "loan_advances 0\n",
      "from_messages 0\n",
      "other 0\n",
      "director_fees 0\n",
      "bonus 0\n",
      "total_stock_value 0\n",
      "from_poi_to_this_person 0\n",
      "from_this_person_to_poi 0\n",
      "restricted_stock 0\n",
      "salary 0\n",
      "total_payments 0\n",
      "fraction_to_poi 0\n",
      "exercised_stock_options 0\n",
      "\n",
      "\n",
      "NaN by Data Point\n",
      "=================\n",
      "METTS MARK 0\n",
      "BAXTER JOHN C 0\n",
      "ELLIOTT STEVEN 0\n",
      "CORDES WILLIAM R 0\n",
      "HANNON KEVIN P 0\n",
      "MORDAUNT KRISTINA M 0\n",
      "MEYER ROCKFORD G 0\n",
      "MCMAHON JEFFREY 0\n",
      "HAEDICKE MARK E 0\n",
      "PIPER GREGORY F 0\n",
      "HUMPHREY GENE E 0\n",
      "NOLES JAMES L 0\n",
      "BLACHMAN JEREMY M 0\n",
      "SUNDE MARTIN 0\n"
     ]
    }
   ],
   "source": [
    "print 'MISSING DATA (NaN)'\n",
    "print '=================='\n",
    "print 'Count of NaN Values (for each feature) :'\n",
    "print\n",
    "# Initialize Counts:\n",
    "count_nan = defaultdict(int)\n",
    "for key in data_dict[first_key].keys():\n",
    "\tcount_nan[key] = 0\n",
    "# Increment Counter\n",
    "for person in data_dict:\n",
    "\tfor key in data_dict[person].keys():\n",
    "\t\tif np.isnan(data_dict[person][key]):\n",
    "\t\t\tcount_nan[key] += 1\n",
    "# Sort dictionary by value and print values\n",
    "for key in sorted(count_nan, key=count_nan.get, reverse=True):\n",
    "    print key, count_nan[key]\n",
    "\n",
    "print \n",
    "print\n",
    "print 'NaN by Data Point'\n",
    "print '================='\n",
    "count_nan_ind = defaultdict(int)\n",
    "for person in data_dict:\n",
    "\tcnt = 0\n",
    "\tfor key in data_dict[person].keys():\n",
    "\t\tif np.isnan(data_dict[person][key]):\n",
    "\t\t\tcnt += 1\n",
    "\tcount_nan_ind[person] = cnt\n",
    "\n",
    "for key in sorted(count_nan_ind, key = count_nan_ind.get, reverse=True)[0:14]:\n",
    "\tprint key, count_nan_ind[key]"
   ]
  },
  {
   "cell_type": "markdown",
   "metadata": {},
   "source": [
    "### Remove Outliers\n",
    "'TOTAL'\n",
    "\n",
    "'THE TRAVEL AGENCY IN THE PARK'\n",
    "\n",
    "'LOCKHART EUGENE E'"
   ]
  },
  {
   "cell_type": "code",
   "execution_count": 47,
   "metadata": {
    "collapsed": false
   },
   "outputs": [
    {
     "name": "stdout",
     "output_type": "stream",
     "text": [
      "Initial Length: 146\n",
      "Length after Outlier Removal: 143\n"
     ]
    }
   ],
   "source": [
    "outliers = ['TOTAL','THE TRAVEL AGENCY IN THE PARK','LOCKHART EUGENE E']\n",
    "print 'Initial Length:', len(data_dict)\n",
    "for name in outliers:\n",
    "    data_dict.pop(name)\n",
    "print 'Length after Outlier Removal:', len(data_dict)"
   ]
  },
  {
   "cell_type": "markdown",
   "metadata": {
    "collapsed": false
   },
   "source": [
    "### Feature Selection\n",
    "Use SelectKBest"
   ]
  },
  {
   "cell_type": "code",
   "execution_count": 48,
   "metadata": {
    "collapsed": false
   },
   "outputs": [
    {
     "data": {
      "text/plain": [
       "{'bonus': 15.646310196119428,\n",
       " 'deferred_income': 10.183117569139776,\n",
       " 'exercised_stock_options': 27.19264248325241,\n",
       " 'restricted_stock': 8.3604406191721594,\n",
       " 'salary': 10.806071863124094,\n",
       " 'total_payments': 8.3349911967777608,\n",
       " 'total_stock_value': 23.428992663609957}"
      ]
     },
     "execution_count": 48,
     "metadata": {},
     "output_type": "execute_result"
    }
   ],
   "source": [
    "data = featureFormat(data_dict, features_list, remove_NaN=False, sort_keys=True)\n",
    "labels, features = targetFeatureSplit(data)\n",
    "\n",
    "### Feature scaling\n",
    "from sklearn import preprocessing\n",
    "features = preprocessing.MinMaxScaler().fit_transform(features)\n",
    "\n",
    "### SelectKBest\n",
    "selection = SelectKBest(k = 'all')\n",
    "selection.fit(features, labels)\n",
    "scores = selection.scores_\n",
    "score_pairs = zip(features_list[1:], scores)\n",
    "score_pairs = sorted(score_pairs, key = lambda x: x[1])\n",
    "score_pairs.reverse()\n",
    "\n",
    "top_features = ['poi']\n",
    "for name, val in score_pairs:\n",
    "    if len(top_features) <= 10:\n",
    "        top_features.append(name)\n",
    "\n",
    "k_best_features = dict(score_pairs[0:7], )\n",
    "k_best_features"
   ]
  },
  {
   "cell_type": "code",
   "execution_count": 49,
   "metadata": {
    "collapsed": false
   },
   "outputs": [
    {
     "data": {
      "image/png": "[encoded data removed]",
      "text/plain": [
       "<matplotlib.figure.Figure at 0x10bb82450>"
      ]
     },
     "metadata": {},
     "output_type": "display_data"
    }
   ],
   "source": [
    "import matplotlib.pyplot as plt\n",
    "%matplotlib inline  \n",
    "features_names = zip(*score_pairs)[0]\n",
    "score = zip(*score_pairs)[1]\n",
    "x_pos = np.arange(len(features_names)) \n",
    "plt.figure(figsize=(12,8))\n",
    "plt.barh(x_pos, score, align='center')\n",
    "plt.yticks(x_pos, features_names) \n",
    "plt.ylabel('Score')\n",
    "plt.xlabel('Feature')\n",
    "plt.gca().invert_yaxis()\n",
    "for i, v in enumerate(score):\n",
    "    v = float(\"{0:.2f}\".format(v))\n",
    "    plt.text(v + .5, i+.25, str(v), color='blue', fontweight='bold')\n",
    "plt.show()\n",
    "\n",
    "\n"
   ]
  },
  {
   "cell_type": "markdown",
   "metadata": {},
   "source": [
    "Use SelectPercentile"
   ]
  },
  {
   "cell_type": "code",
   "execution_count": 50,
   "metadata": {
    "collapsed": false
   },
   "outputs": [
    {
     "data": {
      "text/plain": [
       "'\\nfrom sklearn.feature_selection import SelectPercentile\\nselector = SelectPercentile(percentile = 10)\\nselector.fit(features, labels)\\nperc_scores = selector.scores_\\n\\nperc_dict = {}\\nfor i in range(len(perc_scores)):\\n    perc_dict[features_list[i+1]] = perc_scores[i]\\n\\nperc_dict\\n\\nimport operator\\nperc_dict = sorted(perc_dict.items(), key=operator.itemgetter(1))\\nperc_dict.reverse()\\ndict(perc_dict[0:7])\\n'"
      ]
     },
     "execution_count": 50,
     "metadata": {},
     "output_type": "execute_result"
    }
   ],
   "source": [
    "'''\n",
    "from sklearn.feature_selection import SelectPercentile\n",
    "selector = SelectPercentile(percentile = 10)\n",
    "selector.fit(features, labels)\n",
    "perc_scores = selector.scores_\n",
    "\n",
    "perc_dict = {}\n",
    "for i in range(len(perc_scores)):\n",
    "    perc_dict[features_list[i+1]] = perc_scores[i]\n",
    "\n",
    "perc_dict\n",
    "\n",
    "import operator\n",
    "perc_dict = sorted(perc_dict.items(), key=operator.itemgetter(1))\n",
    "perc_dict.reverse()\n",
    "dict(perc_dict[0:7])\n",
    "'''"
   ]
  },
  {
   "cell_type": "code",
   "execution_count": 51,
   "metadata": {
    "collapsed": false
   },
   "outputs": [
    {
     "data": {
      "text/plain": [
       "[('total_stock_value', 0.15818851251074678, 1),\n",
       " ('bonus', 0.14653601911166375, 2),\n",
       " ('total_payments', 0.11650441149248578, 7),\n",
       " ('exercised_stock_options', 0.11184522543553803, 1),\n",
       " ('shared_receipt_with_poi', 0.1019663371865448, 3),\n",
       " ('restricted_stock', 0.09393215937753864, 8),\n",
       " ('deferred_income', 0.087758643665491382, 1),\n",
       " ('long_term_incentive', 0.082530675173350623, 4),\n",
       " ('salary', 0.056654284767362742, 6),\n",
       " ('from_poi_to_this_person', 0.044083731279277498, 5)]"
      ]
     },
     "execution_count": 51,
     "metadata": {},
     "output_type": "execute_result"
    }
   ],
   "source": [
    "from sklearn.feature_selection import RFE\n",
    "from sklearn.linear_model import LogisticRegression, LinearRegression\n",
    "from sklearn import metrics\n",
    "from sklearn.ensemble import ExtraTreesClassifier\n",
    "import operator\n",
    "\n",
    "# Reload data using only top 10 features found through K-Best Selection\n",
    "data = featureFormat(data_dict, top_features, sort_keys=True)\n",
    "labels, features = targetFeatureSplit(data)\n",
    "### Feature scaling\n",
    "from sklearn import preprocessing\n",
    "features = preprocessing.MinMaxScaler().fit_transform(features)\n",
    "\n",
    "# create a base classifier used to evaluate a subset of attributes\n",
    "model = LogisticRegression()\n",
    "model_fi = RandomForestClassifier()\n",
    "\n",
    "# create the RFE model and select 10 attributes\n",
    "rfe = RFE(model, 3)\n",
    "rfe = rfe.fit(features, labels)\n",
    "\n",
    "# Use model_fi to find feature importance\n",
    "model_fi.fit(features, labels)\n",
    "feat_imp = model_fi.feature_importances_\n",
    "\n",
    "# summarize the selection of the attributes\n",
    "#print(rfe.support_)\n",
    "#print(rfe.ranking_)\n",
    "\n",
    "ranking_dict = {}\n",
    "ranking = rfe.ranking_\n",
    "for i in range(len(ranking)):\n",
    "    ranking_dict[top_features[i+1]] = (feat_imp[i], ranking[i])\n",
    "ranking_pairs = zip(top_features[1:], feat_imp, ranking)\n",
    "ranking_pairs = sorted(ranking_pairs, key = lambda x: x[1])\n",
    "ranking_pairs.reverse()\n",
    "\n",
    "ranking_dict = sorted(ranking_dict.items(), key=operator.itemgetter(1))\n",
    "ranking_dict.reverse()\n",
    "ranking_pairs\n",
    "\n"
   ]
  },
  {
   "cell_type": "code",
   "execution_count": 52,
   "metadata": {
    "collapsed": false
   },
   "outputs": [
    {
     "data": {
      "image/png": "[encoded data removed]",
      "text/plain": [
       "<matplotlib.figure.Figure at 0x10c354710>"
      ]
     },
     "metadata": {},
     "output_type": "display_data"
    }
   ],
   "source": [
    "features_names = zip(*ranking_pairs)[0]\n",
    "feature_importance = zip(*ranking_pairs)[1]\n",
    "feature_ranking = zip(*ranking_pairs)[2]\n",
    "x_pos = np.arange(len(features_names)) \n",
    "\n",
    "plt.figure(figsize=(10,8))\n",
    "plt.barh(x_pos, feature_importance, align='center')\n",
    "plt.yticks(x_pos, features_names) \n",
    "plt.ylabel('Feature Importance')\n",
    "plt.xlabel('Feature')\n",
    "plt.gca().invert_yaxis()\n",
    "for i, v in enumerate(feature_importance):\n",
    "    v = float(\"{0:.4f}\".format(v))\n",
    "    if feature_ranking[i] == 1:\n",
    "        text_color = 'red'\n",
    "        text_weight = 'bold'\n",
    "    else:\n",
    "        text_color = 'blue'\n",
    "        text_weight = 'light'\n",
    "    plt.text(v + .001, i+.25, str(feature_ranking[i]), color=text_color, fontweight=text_weight)\n",
    "        \n",
    "plt.show()"
   ]
  },
  {
   "cell_type": "code",
   "execution_count": 53,
   "metadata": {
    "collapsed": false
   },
   "outputs": [],
   "source": [
    "top_features = ['poi',\n",
    "                'total_stock_value',\n",
    "                'exercised_stock_options',\n",
    "                'deferred_income',\n",
    "                'bonus',\n",
    "                'salary']\n",
    "# Reload data using only top 10 features found through K-Best Selection\n",
    "data = featureFormat(data_dict, top_features, sort_keys=True)\n",
    "labels, features = targetFeatureSplit(data)\n",
    "\n",
    "### Feature scaling\n",
    "from sklearn import preprocessing\n",
    "features = preprocessing.MinMaxScaler().fit_transform(features)\n",
    "\n",
    "from sklearn.cross_validation import StratifiedShuffleSplit\n",
    "cv = StratifiedShuffleSplit(labels)"
   ]
  },
  {
   "cell_type": "code",
   "execution_count": 54,
   "metadata": {
    "collapsed": false
   },
   "outputs": [
    {
     "name": "stdout",
     "output_type": "stream",
     "text": [
      "Accuracy: 0.866666666667\n",
      "Recall: 0.15\n",
      "Precision: 0.2\n"
     ]
    }
   ],
   "source": [
    "from sklearn.cross_validation import cross_val_score\n",
    "from sklearn.svm import LinearSVC\n",
    "clf = KNeighborsClassifier()\n",
    "#X_train, X_test, y_train, y_test = train_test_split(features,labels,test_size=.3)\n",
    "#clf.fit(X_train,y_train)\n",
    "#y_pred = clf.predict(X_test)\n",
    "#accuracy = accuracy_score(y_test, y_pred)\n",
    "#recall = recall_score(y_test, y_pred)\n",
    "#precision = precision_score(y_test, y_pred)\n",
    "print 'Accuracy:', np.mean(cross_val_score(clf, features, labels, scoring='accuracy', cv=cv))\n",
    "print 'Recall:', np.mean(cross_val_score(clf, features, labels, scoring='recall', cv=cv))\n",
    "print 'Precision:', np.mean(cross_val_score(clf, features, labels, scoring='precision', cv=cv))\n",
    "\n",
    "#print 'Accuracy:', accuracy\n",
    "#print 'Recall:', recall\n",
    "#print 'Precision:', precision"
   ]
  },
  {
   "cell_type": "code",
   "execution_count": 55,
   "metadata": {
    "collapsed": false
   },
   "outputs": [
    {
     "ename": "TypeError",
     "evalue": "__init__() takes at least 2 arguments (1 given)",
     "output_type": "error",
     "traceback": [
      "\u001b[0;31m---------------------------------------------------------------------------\u001b[0m",
      "\u001b[0;31mTypeError\u001b[0m                                 Traceback (most recent call last)",
      "\u001b[0;32m<ipython-input-55-3c1bc0c3e1b0>\u001b[0m in \u001b[0;36m<module>\u001b[0;34m()\u001b[0m\n\u001b[1;32m     10\u001b[0m \u001b[0;34m\u001b[0m\u001b[0m\n\u001b[1;32m     11\u001b[0m \u001b[0mcv\u001b[0m \u001b[0;34m=\u001b[0m \u001b[0mStratifiedShuffleSplit\u001b[0m\u001b[0;34m(\u001b[0m\u001b[0mlabels\u001b[0m\u001b[0;34m)\u001b[0m\u001b[0;34m\u001b[0m\u001b[0m\n\u001b[0;32m---> 12\u001b[0;31m \u001b[0;32mprint\u001b[0m \u001b[0mStratifiedShuffleSplit\u001b[0m\u001b[0;34m(\u001b[0m\u001b[0;34m)\u001b[0m\u001b[0;34m\u001b[0m\u001b[0m\n\u001b[0m\u001b[1;32m     13\u001b[0m \u001b[0;34m\u001b[0m\u001b[0m\n\u001b[1;32m     14\u001b[0m models = [GaussianNB(), LinearSVC(), LogisticRegression(), \n",
      "\u001b[0;31mTypeError\u001b[0m: __init__() takes at least 2 arguments (1 given)"
     ]
    }
   ],
   "source": [
    "def test_algorithm(clf, features, labels, score_str, cv):\n",
    "    return np.mean(cross_val_score(clf,\n",
    "                                   features,\n",
    "                                   labels,\n",
    "                                   scoring=score_str,\n",
    "                                   cv=cv))\n",
    "\n",
    "from sklearn.cross_validation import StratifiedShuffleSplit\n",
    "import re\n",
    "\n",
    "cv = StratifiedShuffleSplit(labels)\n",
    "print StratifiedShuffleSplit()\n",
    "\n",
    "models = [GaussianNB(), LinearSVC(), LogisticRegression(), \n",
    "          DecisionTreeClassifier(), KNeighborsClassifier(), AdaBoostClassifier(),\n",
    "          RandomForestClassifier()]\n",
    "\n",
    "test_results = {}\n",
    "for i in range(len(models)):\n",
    "    clf = models[i]\n",
    "    clf_str = re.split(r'\\(', str(clf))[0]\n",
    "    test_results[clf_str] = {}\n",
    "    test_results[clf_str]['Accuracy'] = test_algorithm(clf,features,labels,'accuracy',cv)\n",
    "    test_results[clf_str]['Precision'] = test_algorithm(clf,features,labels,'precision',cv)\n",
    "    test_results[clf_str]['Recall'] = test_algorithm(clf,features,labels,'recall',cv)\n",
    "\n",
    "df_results = pd.DataFrame.from_dict(test_results).T\n"
   ]
  },
  {
   "cell_type": "code",
   "execution_count": null,
   "metadata": {
    "collapsed": false
   },
   "outputs": [],
   "source": [
    "df_results"
   ]
  },
  {
   "cell_type": "code",
   "execution_count": null,
   "metadata": {
    "collapsed": false,
    "scrolled": false
   },
   "outputs": [],
   "source": [
    "ax = df_results.plot(kind='bar',figsize=(10,5),fontsize=12)\n",
    "ax.set_title('Results of Different Models\\n(Using Default Settings)',fontsize=16)\n",
    "ax.legend(bbox_to_anchor=(0.95, 0.9, .17, 0), loc=3, ncol=1, mode='expand', borderaxespad=0)\n",
    "ax.text(.12,0.265,'Score > \\n      0.3',fontsize=12,color='r')\n",
    "ax.set_xlabel('Algorithm',fontsize=16)\n",
    "ax.set_ylabel('Score Value',fontsize=16)\n",
    "ax.plot([-.5, 6.5],[0.30, 0.30],'k--',linewidth=2)\n",
    "plt.show()"
   ]
  },
  {
   "cell_type": "code",
   "execution_count": null,
   "metadata": {
    "collapsed": false
   },
   "outputs": [],
   "source": [
    "test_classifier(RandomForestClassifier(),data_dict,top_features)"
   ]
  },
  {
   "cell_type": "code",
   "execution_count": null,
   "metadata": {
    "collapsed": false
   },
   "outputs": [],
   "source": [
    "from sklearn.grid_search import GridSearchCV\n",
    "\n",
    "# Perform for RandomForestClassifier() and AdaBoostClassifier()\n",
    "parameters_rfc = {'n_estimators':[2, 5, 10, 20, 40, 100], \n",
    "                  'min_samples_split':[1, 2, 3, 5], \n",
    "                  'min_samples_leaf':[1, 2, 3, 5, 10, 15]}\n",
    "parameters_abc = {'n_estimators':[2, 5, 10, 15, 20, 30, 40, 50], \n",
    "                  'algorithm':('SAMME.R','SAMME'), \n",
    "                  'random_state':[10, 20, 30, 40, 50, 60]}\n",
    "parameters_svr = {'loss':('squared_hinge', 'hinge'), 'C':[1, 10]}\n",
    "\n",
    "\n",
    "rfc = RandomForestClassifier()\n",
    "abc = AdaBoostClassifier()\n",
    "svr = LinearSVC()\n",
    "\n",
    "clf = GridSearchCV(abc, parameters_abc)\n",
    "clf.fit(features, labels)\n"
   ]
  },
  {
   "cell_type": "code",
   "execution_count": null,
   "metadata": {
    "collapsed": false
   },
   "outputs": [],
   "source": [
    "clf.best_params_"
   ]
  },
  {
   "cell_type": "code",
   "execution_count": null,
   "metadata": {
    "collapsed": false
   },
   "outputs": [],
   "source": [
    "test_classifier(clf.best_estimator_,data_dict,top_features)\n",
    "#test_classifier(AdaBoostClassifier(),data_dict,top_features)"
   ]
  },
  {
   "cell_type": "code",
   "execution_count": null,
   "metadata": {
    "collapsed": false
   },
   "outputs": [],
   "source": [
    "test_classifier(GaussianNB(), data_dict, top_features)"
   ]
  },
  {
   "cell_type": "code",
   "execution_count": 59,
   "metadata": {
    "collapsed": false
   },
   "outputs": [],
   "source": [
    "import matplotlib.pyplot as plt"
   ]
  },
  {
   "cell_type": "code",
   "execution_count": null,
   "metadata": {
    "collapsed": true
   },
   "outputs": [],
   "source": []
  }
 ],
 "metadata": {
  "kernelspec": {
   "display_name": "Python 2",
   "language": "python",
   "name": "python2"
  },
  "language_info": {
   "codemirror_mode": {
    "name": "ipython",
    "version": 2
   },
   "file_extension": ".py",
   "mimetype": "text/x-python",
   "name": "python",
   "nbconvert_exporter": "python",
   "pygments_lexer": "ipython2",
   "version": "2.7.9"
  }
 },
 "nbformat": 4,
 "nbformat_minor": 0
}
