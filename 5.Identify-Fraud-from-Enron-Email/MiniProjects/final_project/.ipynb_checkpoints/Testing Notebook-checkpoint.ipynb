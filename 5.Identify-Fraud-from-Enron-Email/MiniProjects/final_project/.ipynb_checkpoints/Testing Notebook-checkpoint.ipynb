{
 "cells": [
  {
   "cell_type": "code",
   "execution_count": 72,
   "metadata": {
    "collapsed": true
   },
   "outputs": [],
   "source": [
    "import sys\n",
    "import pickle\n",
    "sys.path.append(\"../tools/\")\n",
    "\n",
    "from feature_format import featureFormat, targetFeatureSplit\n",
    "from tester import test_classifier, dump_classifier_and_data\n",
    "import matplotlib.pyplot as plt\n",
    "import numpy as np\n",
    "import pandas as pd\n",
    "from collections import defaultdict\n",
    "from time import time\n",
    "\n",
    "# Import classifiers to test\n",
    "from sklearn.naive_bayes import GaussianNB\n",
    "from sklearn.svm import SVC\n",
    "from sklearn.linear_model import LogisticRegression\n",
    "from sklearn.tree import DecisionTreeClassifier\n",
    "from sklearn.neighbors import KNeighborsClassifier\n",
    "from sklearn.ensemble import AdaBoostClassifier\n",
    "from sklearn.ensemble import RandomForestClassifier\n",
    "\n",
    "from sklearn.feature_selection import SelectKBest\n",
    "from sklearn.pipeline import Pipeline\n",
    "from sklearn.decomposition import PCA\n",
    "\n",
    "# Import metrics to analyze results\n",
    "from sklearn.metrics import accuracy_score\n",
    "from sklearn.metrics import recall_score\n",
    "from sklearn.metrics import precision_score\n",
    "from sklearn.metrics import f1_score\n",
    "from sklearn.metrics import classification_report\n",
    "\n",
    "# Import functions for cross validation and parameter optimization\n",
    "from sklearn.grid_search import GridSearchCV\n",
    "from sklearn.cross_validation import train_test_split"
   ]
  },
  {
   "cell_type": "code",
   "execution_count": 73,
   "metadata": {
    "collapsed": true
   },
   "outputs": [],
   "source": [
    "### Task 1: Select what features you'll use.\n",
    "### features_list is a list of strings, each of which is a feature name.\n",
    "### The first feature must be \"poi\".\n",
    "\n",
    "features_list = ['poi', 'salary', 'to_messages', 'deferral_payments', 'total_payments',\n",
    "       'exercised_stock_options', 'bonus', 'restricted_stock',\n",
    "       'shared_receipt_with_poi', 'restricted_stock_deferred',\n",
    "       'total_stock_value', 'expenses', 'loan_advances', 'from_messages',\n",
    "       'other', 'from_this_person_to_poi', 'poi', 'director_fees',\n",
    "       'deferred_income', 'long_term_incentive',\n",
    "       'from_poi_to_this_person']"
   ]
  },
  {
   "cell_type": "code",
   "execution_count": 74,
   "metadata": {
    "collapsed": false
   },
   "outputs": [],
   "source": [
    "with open(\"final_project_dataset.pkl\", \"r\") as data_file:\n",
    "    data_dict = pickle.load(data_file)"
   ]
  },
  {
   "cell_type": "code",
   "execution_count": 75,
   "metadata": {
    "collapsed": false
   },
   "outputs": [
    {
     "data": {
      "text/plain": [
       "146"
      ]
     },
     "execution_count": 75,
     "metadata": {},
     "output_type": "execute_result"
    }
   ],
   "source": [
    "len(data_dict.keys())"
   ]
  },
  {
   "cell_type": "code",
   "execution_count": 76,
   "metadata": {
    "collapsed": false
   },
   "outputs": [
    {
     "name": "stdout",
     "output_type": "stream",
     "text": [
      "salary\n",
      "to_messages\n",
      "deferral_payments\n",
      "total_payments\n",
      "exercised_stock_options\n",
      "bonus\n",
      "restricted_stock\n",
      "shared_receipt_with_poi\n",
      "restricted_stock_deferred\n",
      "total_stock_value\n",
      "expenses\n",
      "loan_advances\n",
      "from_messages\n",
      "other\n",
      "from_this_person_to_poi\n",
      "poi\n",
      "director_fees\n",
      "deferred_income\n",
      "long_term_incentive\n",
      "email_address\n",
      "from_poi_to_this_person\n",
      "21\n"
     ]
    }
   ],
   "source": [
    "for item in data_dict['METTS MARK'].keys():\n",
    "    print item\n",
    "print len(data_dict['METTS MARK'].keys())"
   ]
  },
  {
   "cell_type": "markdown",
   "metadata": {},
   "source": [
    "### Number of data points\n",
    "Number of POI vs. Non-POI"
   ]
  },
  {
   "cell_type": "code",
   "execution_count": 77,
   "metadata": {
    "collapsed": false
   },
   "outputs": [
    {
     "name": "stdout",
     "output_type": "stream",
     "text": [
      "DATA POINTS\n",
      "===========\n",
      "146 total data points\n",
      "18 POI;\t128 non-POI\n"
     ]
    }
   ],
   "source": [
    "print 'DATA POINTS'\n",
    "print '==========='\n",
    "print len(data_dict), 'total data points'\n",
    "count_poi = 0\n",
    "for person in data_dict:\n",
    "\tif data_dict[person]['poi'] == 1:\n",
    "\t\tcount_poi += 1\n",
    "print count_poi, 'POI;\t', len(data_dict) - count_poi, 'non-POI'"
   ]
  },
  {
   "cell_type": "markdown",
   "metadata": {},
   "source": [
    "### Convert all 'str' and 'int' types to 'float' type"
   ]
  },
  {
   "cell_type": "code",
   "execution_count": 78,
   "metadata": {
    "collapsed": false
   },
   "outputs": [],
   "source": [
    "df = pd.DataFrame.from_dict(data_dict, orient='index')\n",
    "df = df.replace('NaN',np.nan)\n",
    "df = df.drop('email_address', 1)\n",
    "\n",
    "# Convert NaN to Median Value\n",
    "df = df.apply(lambda x: x.fillna(x.median()), axis=0)\n",
    "\n",
    "# Create new features\n",
    "# Fraction from poi\n",
    "df['fraction_from_poi'] = df['from_poi_to_this_person']/df['from_messages']\n",
    "features_list.append('fraction_from_poi')\n",
    "# Fraction to poi\n",
    "df['fraction_to_poi'] = df['from_this_person_to_poi']/df['to_messages']\n",
    "features_list.append('fraction_to_poi')\n",
    "\n",
    "data_dict = df.T.to_dict()"
   ]
  },
  {
   "cell_type": "markdown",
   "metadata": {},
   "source": [
    "### Number of Features\n",
    "Split by type"
   ]
  },
  {
   "cell_type": "code",
   "execution_count": 79,
   "metadata": {
    "collapsed": false
   },
   "outputs": [
    {
     "name": "stdout",
     "output_type": "stream",
     "text": [
      "FEATURES\n",
      "========\n",
      "22 features total\n",
      "\n",
      "Feature breakdown:\n",
      "\n",
      "Data Types:\n",
      "<type 'float'> :\n",
      "['to_messages', 'deferral_payments', 'expenses', 'long_term_incentive', 'from_poi_to_this_person', 'deferred_income', 'fraction_from_poi', 'restricted_stock_deferred', 'shared_receipt_with_poi', 'loan_advances', 'from_messages', 'other', 'director_fees', 'bonus', 'total_stock_value', 'from_this_person_to_poi', 'restricted_stock', 'salary', 'total_payments', 'fraction_to_poi', 'exercised_stock_options']\n",
      "------------\n",
      "<type 'bool'> :\n",
      "['poi']\n",
      "------------\n",
      "False\n"
     ]
    }
   ],
   "source": [
    "print 'FEATURES'\n",
    "print '========'\n",
    "first_key = data_dict.keys()[0]\n",
    "print len(data_dict[first_key].keys()), 'features total'\n",
    "print\n",
    "print 'Feature breakdown:'\n",
    "data_types = defaultdict(list)\n",
    "for key in data_dict[first_key].keys():\n",
    "\tdata_type = type(data_dict[first_key][key])\n",
    "\tdata_types[data_type].append(key)\n",
    "print\n",
    "print 'Data Types:'\n",
    "for key in data_types:\n",
    "\tprint key,':'\n",
    "#\tfor item in data_types[key]:\n",
    "#\t\tprint '   ', item\n",
    "\tprint data_types[key]\n",
    "\tprint '------------'\n",
    "\n",
    "print np.isnan(data_dict['LOCKHART EUGENE E']['salary'])"
   ]
  },
  {
   "cell_type": "markdown",
   "metadata": {},
   "source": [
    "### Number of NaN values"
   ]
  },
  {
   "cell_type": "code",
   "execution_count": 80,
   "metadata": {
    "collapsed": false
   },
   "outputs": [
    {
     "name": "stdout",
     "output_type": "stream",
     "text": [
      "MISSING DATA (NaN)\n",
      "==================\n",
      "Count of NaN Values (for each feature) :\n",
      "\n",
      "to_messages 0\n",
      "deferral_payments 0\n",
      "expenses 0\n",
      "poi 0\n",
      "deferred_income 0\n",
      "long_term_incentive 0\n",
      "fraction_from_poi 0\n",
      "restricted_stock_deferred 0\n",
      "shared_receipt_with_poi 0\n",
      "loan_advances 0\n",
      "from_messages 0\n",
      "other 0\n",
      "director_fees 0\n",
      "bonus 0\n",
      "total_stock_value 0\n",
      "from_poi_to_this_person 0\n",
      "from_this_person_to_poi 0\n",
      "restricted_stock 0\n",
      "salary 0\n",
      "total_payments 0\n",
      "fraction_to_poi 0\n",
      "exercised_stock_options 0\n",
      "\n",
      "\n",
      "NaN by Data Point\n",
      "=================\n",
      "METTS MARK 0\n",
      "BAXTER JOHN C 0\n",
      "ELLIOTT STEVEN 0\n",
      "CORDES WILLIAM R 0\n",
      "HANNON KEVIN P 0\n",
      "MORDAUNT KRISTINA M 0\n",
      "MEYER ROCKFORD G 0\n",
      "MCMAHON JEFFREY 0\n",
      "HAEDICKE MARK E 0\n",
      "PIPER GREGORY F 0\n",
      "HUMPHREY GENE E 0\n",
      "NOLES JAMES L 0\n",
      "BLACHMAN JEREMY M 0\n",
      "SUNDE MARTIN 0\n"
     ]
    }
   ],
   "source": [
    "print 'MISSING DATA (NaN)'\n",
    "print '=================='\n",
    "print 'Count of NaN Values (for each feature) :'\n",
    "print\n",
    "# Initialize Counts:\n",
    "count_nan = defaultdict(int)\n",
    "for key in data_dict[first_key].keys():\n",
    "\tcount_nan[key] = 0\n",
    "# Increment Counter\n",
    "for person in data_dict:\n",
    "\tfor key in data_dict[person].keys():\n",
    "\t\tif np.isnan(data_dict[person][key]):\n",
    "\t\t\tcount_nan[key] += 1\n",
    "# Sort dictionary by value and print values\n",
    "for key in sorted(count_nan, key=count_nan.get, reverse=True):\n",
    "  print key, count_nan[key]\n",
    "\n",
    "print \n",
    "print\n",
    "print 'NaN by Data Point'\n",
    "print '================='\n",
    "count_nan_ind = defaultdict(int)\n",
    "for person in data_dict:\n",
    "\tcnt = 0\n",
    "\tfor key in data_dict[person].keys():\n",
    "\t\tif np.isnan(data_dict[person][key]):\n",
    "\t\t\tcnt += 1\n",
    "\tcount_nan_ind[person] = cnt\n",
    "\n",
    "for key in sorted(count_nan_ind, key = count_nan_ind.get, reverse=True)[0:14]:\n",
    "\tprint key, count_nan_ind[key]"
   ]
  },
  {
   "cell_type": "markdown",
   "metadata": {},
   "source": [
    "### Remove Outliers\n",
    "'TOTAL'\n",
    "\n",
    "'THE TRAVEL AGENCY IN THE PARK'\n",
    "\n",
    "'LOCKHART EUGENE E'"
   ]
  },
  {
   "cell_type": "code",
   "execution_count": 81,
   "metadata": {
    "collapsed": false
   },
   "outputs": [
    {
     "name": "stdout",
     "output_type": "stream",
     "text": [
      "Initial Length: 146\n",
      "Length after Outlier Removal: 143\n"
     ]
    }
   ],
   "source": [
    "outliers = ['TOTAL','THE TRAVEL AGENCY IN THE PARK','LOCKHART EUGENE E']\n",
    "print 'Initial Length:', len(data_dict)\n",
    "for name in outliers:\n",
    "    data_dict.pop(name)\n",
    "print 'Length after Outlier Removal:', len(data_dict)"
   ]
  },
  {
   "cell_type": "markdown",
   "metadata": {
    "collapsed": false
   },
   "source": [
    "### Feature Selection\n",
    "Use K-Best"
   ]
  },
  {
   "cell_type": "code",
   "execution_count": 86,
   "metadata": {
    "collapsed": false
   },
   "outputs": [
    {
     "data": {
      "text/plain": [
       "{'bonus': 15.646310196119428,\n",
       " 'deferred_income': 10.183117569139776,\n",
       " 'exercised_stock_options': 27.19264248325241,\n",
       " 'poi': inf,\n",
       " 'salary': 10.806071863124094,\n",
       " 'total_stock_value': 23.428992663609957}"
      ]
     },
     "execution_count": 86,
     "metadata": {},
     "output_type": "execute_result"
    }
   ],
   "source": [
    "\n",
    "data = featureFormat(data_dict, features_list, sort_keys=True)\n",
    "labels, features = targetFeatureSplit(data)\n",
    "\n",
    "### Feature scaling\n",
    "from sklearn import preprocessing\n",
    "features = preprocessing.MinMaxScaler().fit_transform(features)\n",
    "\n",
    "### SelectKBest\n",
    "selection = SelectKBest(k = 'all')\n",
    "selection.fit(features, labels)\n",
    "scores = selection.scores_\n",
    "score_pairs = zip(features_list[1:], scores)\n",
    "score_pairs = sorted(score_pairs, key = lambda x: x[1])\n",
    "score_pairs.reverse()\n",
    "\n",
    "k_best_features = dict(score_pairs[0:6], )\n",
    "k_best_features"
   ]
  },
  {
   "cell_type": "code",
   "execution_count": 159,
   "metadata": {
    "collapsed": false
   },
   "outputs": [
    {
     "data": {
      "image/png": "[encoded data removed]",
      "text/plain": [
       "<matplotlib.figure.Figure at 0x10edc6e50>"
      ]
     },
     "metadata": {},
     "output_type": "display_data"
    }
   ],
   "source": [
    "import matplotlib.pyplot as plt\n",
    "%matplotlib inline  \n",
    "features_names = zip(*score_pairs)[0]\n",
    "score = zip(*score_pairs)[1]\n",
    "x_pos = np.arange(len(features_names)) \n",
    "\n",
    "\n",
    "plt.figure(figsize=(10,8))\n",
    "plt.barh(x_pos, score, align='center')\n",
    "plt.yticks(x_pos, features_names) \n",
    "plt.ylabel('Score')\n",
    "plt.xlabel('Feature')\n",
    "plt.gca().invert_yaxis()\n",
    "for i, v in enumerate(score[1:]):\n",
    "    v = float(\"{0:.2f}\".format(v))\n",
    "    plt.text(v + .5, i + 1.25, str(v), color='blue', fontweight='bold')\n",
    "plt.show()"
   ]
  },
  {
   "cell_type": "code",
   "execution_count": null,
   "metadata": {
    "collapsed": false
   },
   "outputs": [],
   "source": []
  },
  {
   "cell_type": "code",
   "execution_count": null,
   "metadata": {
    "collapsed": true
   },
   "outputs": [],
   "source": []
  }
 ],
 "metadata": {
  "kernelspec": {
   "display_name": "Python 2",
   "language": "python",
   "name": "python2"
  },
  "language_info": {
   "codemirror_mode": {
    "name": "ipython",
    "version": 2
   },
   "file_extension": ".py",
   "mimetype": "text/x-python",
   "name": "python",
   "nbconvert_exporter": "python",
   "pygments_lexer": "ipython2",
   "version": "2.7.9"
  }
 },
 "nbformat": 4,
 "nbformat_minor": 0
}
